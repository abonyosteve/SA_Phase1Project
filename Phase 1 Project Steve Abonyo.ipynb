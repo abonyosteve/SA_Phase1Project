{
 "cells": [
  {
   "cell_type": "markdown",
   "id": "6ea5ce2b-800b-4d5d-bd2b-6fe4378c96be",
   "metadata": {},
   "source": [
    "## 1. Import the relevant libraries that I may need for this project"
   ]
  },
  {
   "cell_type": "code",
   "execution_count": 1,
   "id": "012ed013-7eb4-4402-a863-f1520cafc42a",
   "metadata": {},
   "outputs": [],
   "source": [
    "import pandas as pd\n",
    "import numpy as np\n",
    "import seaborn as sns\n",
    "import matplotlib.pyplot as plt\n",
    "%matplotlib inline"
   ]
  },
  {
   "cell_type": "markdown",
   "id": "4dbb4906-d548-4bad-8cb5-1f23cd084eff",
   "metadata": {},
   "source": [
    "## 2. Datasets that i will use are the following\n",
    "\n",
    "* imdb.title.basics\n",
    "* imdb.title.ratings\n",
    "* bom.movie_gross"
   ]
  },
  {
   "cell_type": "markdown",
   "id": "0f9cc14c-8027-4974-8351-eb82e4985546",
   "metadata": {},
   "source": [
    "##### Importing the datasets"
   ]
  },
  {
   "cell_type": "code",
   "execution_count": 2,
   "id": "79fda38e-c7d0-495d-b8cc-3ea23b71599b",
   "metadata": {},
   "outputs": [],
   "source": [
    "df1 = pd.read_csv(\"title.basics.csv\")\n",
    "df2 = pd.read_csv(\"title.ratings.csv\")\n",
    "df3 = pd.read_csv(\"bom.movie_gross.csv\")"
   ]
  },
  {
   "cell_type": "markdown",
   "id": "0f5981a3-2dc0-4c14-873a-0189efbd6362",
   "metadata": {},
   "source": [
    "## 3. Getting a preview of the 3 datsets"
   ]
  },
  {
   "cell_type": "markdown",
   "id": "9ed46e9a-9f6b-42e2-a46c-58473e917e49",
   "metadata": {},
   "source": [
    "##### ***Checking for the `shape`, `column names` and the `column type` of our datasets***"
   ]
  },
  {
   "cell_type": "code",
   "execution_count": 3,
   "id": "b70ff655-8aae-4cef-b838-c0e42b805054",
   "metadata": {},
   "outputs": [
    {
     "name": "stdout",
     "output_type": "stream",
     "text": [
      "Title.basics data\n",
      "(146144, 6)\n",
      "tconst              object\n",
      "primary_title       object\n",
      "original_title      object\n",
      "start_year           int64\n",
      "runtime_minutes    float64\n",
      "genres              object\n",
      "dtype: object\n",
      "\n",
      "\n",
      "Title.ratings data\n",
      "(73856, 3)\n",
      "tconst            object\n",
      "averagerating    float64\n",
      "numvotes           int64\n",
      "dtype: object\n",
      "\n",
      "\n",
      "Bom.movie_gross data\n",
      "(3387, 5)\n",
      "title              object\n",
      "studio             object\n",
      "domestic_gross    float64\n",
      "foreign_gross      object\n",
      "year                int64\n",
      "dtype: object\n"
     ]
    }
   ],
   "source": [
    "## i generally want to see which columns are similar\n",
    "## with the dtypes function i will be able to see both the column name and the type instead of using the df.columns\n",
    "print(\"Title.basics data\")\n",
    "print(df1.shape)\n",
    "print(df1.dtypes)\n",
    "print(\"\\n\")\n",
    "print(\"Title.ratings data\")\n",
    "print(df2.shape)\n",
    "print(df2.dtypes)\n",
    "print(\"\\n\")\n",
    "print(\"Bom.movie_gross data\")\n",
    "print(df3.shape)\n",
    "print(df3.dtypes)"
   ]
  },
  {
   "cell_type": "markdown",
   "id": "28a7ca08-ce37-4967-aea9-4c5450a9eb9c",
   "metadata": {},
   "source": [
    "##### ***Checking the first few entries of our datasets***"
   ]
  },
  {
   "cell_type": "code",
   "execution_count": 4,
   "id": "b739788d-e2c7-460d-bca0-af38ce02d01b",
   "metadata": {},
   "outputs": [
    {
     "name": "stdout",
     "output_type": "stream",
     "text": [
      "Title.basics data\n"
     ]
    },
    {
     "data": {
      "text/html": [
       "<div>\n",
       "<style scoped>\n",
       "    .dataframe tbody tr th:only-of-type {\n",
       "        vertical-align: middle;\n",
       "    }\n",
       "\n",
       "    .dataframe tbody tr th {\n",
       "        vertical-align: top;\n",
       "    }\n",
       "\n",
       "    .dataframe thead th {\n",
       "        text-align: right;\n",
       "    }\n",
       "</style>\n",
       "<table border=\"1\" class=\"dataframe\">\n",
       "  <thead>\n",
       "    <tr style=\"text-align: right;\">\n",
       "      <th></th>\n",
       "      <th>tconst</th>\n",
       "      <th>primary_title</th>\n",
       "      <th>original_title</th>\n",
       "      <th>start_year</th>\n",
       "      <th>runtime_minutes</th>\n",
       "      <th>genres</th>\n",
       "    </tr>\n",
       "  </thead>\n",
       "  <tbody>\n",
       "    <tr>\n",
       "      <th>0</th>\n",
       "      <td>tt0063540</td>\n",
       "      <td>Sunghursh</td>\n",
       "      <td>Sunghursh</td>\n",
       "      <td>2013</td>\n",
       "      <td>175.0</td>\n",
       "      <td>Action,Crime,Drama</td>\n",
       "    </tr>\n",
       "    <tr>\n",
       "      <th>1</th>\n",
       "      <td>tt0066787</td>\n",
       "      <td>One Day Before the Rainy Season</td>\n",
       "      <td>Ashad Ka Ek Din</td>\n",
       "      <td>2019</td>\n",
       "      <td>114.0</td>\n",
       "      <td>Biography,Drama</td>\n",
       "    </tr>\n",
       "    <tr>\n",
       "      <th>2</th>\n",
       "      <td>tt0069049</td>\n",
       "      <td>The Other Side of the Wind</td>\n",
       "      <td>The Other Side of the Wind</td>\n",
       "      <td>2018</td>\n",
       "      <td>122.0</td>\n",
       "      <td>Drama</td>\n",
       "    </tr>\n",
       "  </tbody>\n",
       "</table>\n",
       "</div>"
      ],
      "text/plain": [
       "      tconst                    primary_title              original_title  \\\n",
       "0  tt0063540                        Sunghursh                   Sunghursh   \n",
       "1  tt0066787  One Day Before the Rainy Season             Ashad Ka Ek Din   \n",
       "2  tt0069049       The Other Side of the Wind  The Other Side of the Wind   \n",
       "\n",
       "   start_year  runtime_minutes              genres  \n",
       "0        2013            175.0  Action,Crime,Drama  \n",
       "1        2019            114.0     Biography,Drama  \n",
       "2        2018            122.0               Drama  "
      ]
     },
     "execution_count": 4,
     "metadata": {},
     "output_type": "execute_result"
    }
   ],
   "source": [
    "print(\"Title.basics data\")\n",
    "df1.head(3)"
   ]
  },
  {
   "cell_type": "code",
   "execution_count": 5,
   "id": "c1d77e28-a1a5-48ab-b34a-0bc36b28789c",
   "metadata": {},
   "outputs": [
    {
     "name": "stdout",
     "output_type": "stream",
     "text": [
      "Title.ratings data\n"
     ]
    },
    {
     "data": {
      "text/html": [
       "<div>\n",
       "<style scoped>\n",
       "    .dataframe tbody tr th:only-of-type {\n",
       "        vertical-align: middle;\n",
       "    }\n",
       "\n",
       "    .dataframe tbody tr th {\n",
       "        vertical-align: top;\n",
       "    }\n",
       "\n",
       "    .dataframe thead th {\n",
       "        text-align: right;\n",
       "    }\n",
       "</style>\n",
       "<table border=\"1\" class=\"dataframe\">\n",
       "  <thead>\n",
       "    <tr style=\"text-align: right;\">\n",
       "      <th></th>\n",
       "      <th>tconst</th>\n",
       "      <th>averagerating</th>\n",
       "      <th>numvotes</th>\n",
       "    </tr>\n",
       "  </thead>\n",
       "  <tbody>\n",
       "    <tr>\n",
       "      <th>0</th>\n",
       "      <td>tt10356526</td>\n",
       "      <td>8.3</td>\n",
       "      <td>31</td>\n",
       "    </tr>\n",
       "    <tr>\n",
       "      <th>1</th>\n",
       "      <td>tt10384606</td>\n",
       "      <td>8.9</td>\n",
       "      <td>559</td>\n",
       "    </tr>\n",
       "    <tr>\n",
       "      <th>2</th>\n",
       "      <td>tt1042974</td>\n",
       "      <td>6.4</td>\n",
       "      <td>20</td>\n",
       "    </tr>\n",
       "  </tbody>\n",
       "</table>\n",
       "</div>"
      ],
      "text/plain": [
       "       tconst  averagerating  numvotes\n",
       "0  tt10356526            8.3        31\n",
       "1  tt10384606            8.9       559\n",
       "2   tt1042974            6.4        20"
      ]
     },
     "execution_count": 5,
     "metadata": {},
     "output_type": "execute_result"
    }
   ],
   "source": [
    "print(\"Title.ratings data\")\n",
    "df2.head(3)"
   ]
  },
  {
   "cell_type": "code",
   "execution_count": 6,
   "id": "f88cc042-7f7b-45e8-b2df-1f8c198038d5",
   "metadata": {},
   "outputs": [
    {
     "name": "stdout",
     "output_type": "stream",
     "text": [
      "Bom.movie_gross data\n"
     ]
    },
    {
     "data": {
      "text/html": [
       "<div>\n",
       "<style scoped>\n",
       "    .dataframe tbody tr th:only-of-type {\n",
       "        vertical-align: middle;\n",
       "    }\n",
       "\n",
       "    .dataframe tbody tr th {\n",
       "        vertical-align: top;\n",
       "    }\n",
       "\n",
       "    .dataframe thead th {\n",
       "        text-align: right;\n",
       "    }\n",
       "</style>\n",
       "<table border=\"1\" class=\"dataframe\">\n",
       "  <thead>\n",
       "    <tr style=\"text-align: right;\">\n",
       "      <th></th>\n",
       "      <th>title</th>\n",
       "      <th>studio</th>\n",
       "      <th>domestic_gross</th>\n",
       "      <th>foreign_gross</th>\n",
       "      <th>year</th>\n",
       "    </tr>\n",
       "  </thead>\n",
       "  <tbody>\n",
       "    <tr>\n",
       "      <th>0</th>\n",
       "      <td>Toy Story 3</td>\n",
       "      <td>BV</td>\n",
       "      <td>415000000.0</td>\n",
       "      <td>652000000</td>\n",
       "      <td>2010</td>\n",
       "    </tr>\n",
       "    <tr>\n",
       "      <th>1</th>\n",
       "      <td>Alice in Wonderland (2010)</td>\n",
       "      <td>BV</td>\n",
       "      <td>334200000.0</td>\n",
       "      <td>691300000</td>\n",
       "      <td>2010</td>\n",
       "    </tr>\n",
       "    <tr>\n",
       "      <th>2</th>\n",
       "      <td>Harry Potter and the Deathly Hallows Part 1</td>\n",
       "      <td>WB</td>\n",
       "      <td>296000000.0</td>\n",
       "      <td>664300000</td>\n",
       "      <td>2010</td>\n",
       "    </tr>\n",
       "  </tbody>\n",
       "</table>\n",
       "</div>"
      ],
      "text/plain": [
       "                                         title studio  domestic_gross  \\\n",
       "0                                  Toy Story 3     BV     415000000.0   \n",
       "1                   Alice in Wonderland (2010)     BV     334200000.0   \n",
       "2  Harry Potter and the Deathly Hallows Part 1     WB     296000000.0   \n",
       "\n",
       "  foreign_gross  year  \n",
       "0     652000000  2010  \n",
       "1     691300000  2010  \n",
       "2     664300000  2010  "
      ]
     },
     "execution_count": 6,
     "metadata": {},
     "output_type": "execute_result"
    }
   ],
   "source": [
    "print(\"Bom.movie_gross data\")\n",
    "df3.head(3)"
   ]
  },
  {
   "cell_type": "markdown",
   "id": "03a0b928-184c-488a-85be-05f676f0c2c0",
   "metadata": {},
   "source": [
    "##### ***Checking for missing values in our datasets***"
   ]
  },
  {
   "cell_type": "code",
   "execution_count": 7,
   "id": "dae41e05-e8ad-4acb-85f9-3271b5838bff",
   "metadata": {},
   "outputs": [
    {
     "name": "stdout",
     "output_type": "stream",
     "text": [
      "Title.basics data\n"
     ]
    },
    {
     "data": {
      "text/plain": [
       "tconst                 0\n",
       "primary_title          1\n",
       "original_title        22\n",
       "start_year             0\n",
       "runtime_minutes    31739\n",
       "genres              5408\n",
       "dtype: int64"
      ]
     },
     "execution_count": 7,
     "metadata": {},
     "output_type": "execute_result"
    }
   ],
   "source": [
    "print(\"Title.basics data\")\n",
    "df1.isna().sum()\n",
    "## Quite a lot of missing values in this dataset"
   ]
  },
  {
   "cell_type": "code",
   "execution_count": 8,
   "id": "2f89b06e-34ba-49ff-aff5-f50844b12683",
   "metadata": {},
   "outputs": [
    {
     "name": "stdout",
     "output_type": "stream",
     "text": [
      "Title.ratings data\n"
     ]
    },
    {
     "data": {
      "text/plain": [
       "tconst           0\n",
       "averagerating    0\n",
       "numvotes         0\n",
       "dtype: int64"
      ]
     },
     "execution_count": 8,
     "metadata": {},
     "output_type": "execute_result"
    }
   ],
   "source": [
    "print(\"Title.ratings data\")\n",
    "df2.isnull().sum()\n",
    "## No missing values in this dataset"
   ]
  },
  {
   "cell_type": "code",
   "execution_count": 9,
   "id": "116a8e5b-1bd9-4a8c-ba3a-182b616dcfd6",
   "metadata": {},
   "outputs": [
    {
     "name": "stdout",
     "output_type": "stream",
     "text": [
      "Bom.movie_gross data\n"
     ]
    },
    {
     "data": {
      "text/plain": [
       "title                0\n",
       "studio               5\n",
       "domestic_gross      28\n",
       "foreign_gross     1350\n",
       "year                 0\n",
       "dtype: int64"
      ]
     },
     "execution_count": 9,
     "metadata": {},
     "output_type": "execute_result"
    }
   ],
   "source": [
    "print(\"Bom.movie_gross data\")\n",
    "df3.isna().sum()\n",
    "## Quite a lot of missing values in this dataset"
   ]
  },
  {
   "cell_type": "markdown",
   "id": "de4da59d-f804-4c20-9b3b-cbb141c2a46d",
   "metadata": {},
   "source": [
    "## 4. Merging our datasets"
   ]
  },
  {
   "cell_type": "markdown",
   "id": "36a64237-263a-4675-a654-034bbad11d1c",
   "metadata": {},
   "source": [
    "*First doing some minor cleaning before merging*<br>\n",
    "*I have already identified my primary keys, tconst and movie title respectively*"
   ]
  },
  {
   "cell_type": "code",
   "execution_count": 10,
   "id": "5607cdaa-1362-40c0-9e68-b0746b0036f6",
   "metadata": {},
   "outputs": [
    {
     "name": "stdout",
     "output_type": "stream",
     "text": [
      "(146144, 6)\n",
      "(73856, 3)\n",
      "(3387, 5)\n"
     ]
    }
   ],
   "source": [
    "print(df1.shape)\n",
    "print(df2.shape)\n",
    "print(df3.shape)"
   ]
  },
  {
   "cell_type": "code",
   "execution_count": 11,
   "id": "88679637-a28a-45b7-90a5-16bdb3ecc4a7",
   "metadata": {},
   "outputs": [],
   "source": [
    "df1.dropna(inplace=True)\n",
    "df2.dropna(inplace=True)\n",
    "df3.dropna(inplace=True)"
   ]
  },
  {
   "cell_type": "code",
   "execution_count": 12,
   "id": "e90f40a9-9c7a-45ab-815b-2a7bdb25ab8c",
   "metadata": {},
   "outputs": [
    {
     "name": "stdout",
     "output_type": "stream",
     "text": [
      "(112232, 6)\n",
      "(73856, 3)\n",
      "(2007, 5)\n"
     ]
    }
   ],
   "source": [
    "print(df1.shape)\n",
    "print(df2.shape)\n",
    "print(df3.shape)"
   ]
  },
  {
   "cell_type": "code",
   "execution_count": 13,
   "id": "1a0563d7-7173-4841-a612-9e3fd03d3a03",
   "metadata": {},
   "outputs": [
    {
     "name": "stdout",
     "output_type": "stream",
     "text": [
      "(2007, 5)\n"
     ]
    }
   ],
   "source": [
    "# Because title is a unique identifier in our dataset, we want to drop duplicates\n",
    "\n",
    "df3.drop_duplicates(subset=\"title\").inplace=True\n",
    "print(df3.shape)"
   ]
  },
  {
   "cell_type": "markdown",
   "id": "84bb4571-55a6-45ab-b04e-24ed98147b87",
   "metadata": {},
   "source": [
    "***We now continue to merge***"
   ]
  },
  {
   "cell_type": "code",
   "execution_count": 14,
   "id": "d52809cf-2aa0-44f3-aa0b-28a628312917",
   "metadata": {},
   "outputs": [],
   "source": [
    "## Using merge function to combine df1 and df2 using ID as \"tconst\"\n",
    "\n",
    "df1_df2 = df1.merge(df2, how=\"inner\", on=\"tconst\", validate=\"1:1\") \n",
    "# 1:1 checks if merge keys are unique for both df1 and df2\n",
    "# inner join returns only rows with matching keys on both dataframes\n",
    "#df1_df2.head()"
   ]
  },
  {
   "cell_type": "code",
   "execution_count": 15,
   "id": "7db249b6-e72a-4a3b-b674-95f9a9bef191",
   "metadata": {},
   "outputs": [
    {
     "data": {
      "text/html": [
       "<div>\n",
       "<style scoped>\n",
       "    .dataframe tbody tr th:only-of-type {\n",
       "        vertical-align: middle;\n",
       "    }\n",
       "\n",
       "    .dataframe tbody tr th {\n",
       "        vertical-align: top;\n",
       "    }\n",
       "\n",
       "    .dataframe thead th {\n",
       "        text-align: right;\n",
       "    }\n",
       "</style>\n",
       "<table border=\"1\" class=\"dataframe\">\n",
       "  <thead>\n",
       "    <tr style=\"text-align: right;\">\n",
       "      <th></th>\n",
       "      <th>tconst</th>\n",
       "      <th>primary_title</th>\n",
       "      <th>original_title</th>\n",
       "      <th>start_year</th>\n",
       "      <th>runtime_minutes</th>\n",
       "      <th>genres</th>\n",
       "      <th>averagerating</th>\n",
       "      <th>numvotes</th>\n",
       "      <th>studio</th>\n",
       "      <th>domestic_gross</th>\n",
       "      <th>foreign_gross</th>\n",
       "      <th>year</th>\n",
       "    </tr>\n",
       "  </thead>\n",
       "  <tbody>\n",
       "    <tr>\n",
       "      <th>0</th>\n",
       "      <td>tt0435761</td>\n",
       "      <td>Toy Story 3</td>\n",
       "      <td>Toy Story 3</td>\n",
       "      <td>2010.0</td>\n",
       "      <td>103.0</td>\n",
       "      <td>Adventure,Animation,Comedy</td>\n",
       "      <td>8.3</td>\n",
       "      <td>682218.0</td>\n",
       "      <td>BV</td>\n",
       "      <td>415000000.0</td>\n",
       "      <td>652000000</td>\n",
       "      <td>2010</td>\n",
       "    </tr>\n",
       "    <tr>\n",
       "      <th>1</th>\n",
       "      <td>NaN</td>\n",
       "      <td>Alice in Wonderland (2010)</td>\n",
       "      <td>NaN</td>\n",
       "      <td>NaN</td>\n",
       "      <td>NaN</td>\n",
       "      <td>NaN</td>\n",
       "      <td>NaN</td>\n",
       "      <td>NaN</td>\n",
       "      <td>BV</td>\n",
       "      <td>334200000.0</td>\n",
       "      <td>691300000</td>\n",
       "      <td>2010</td>\n",
       "    </tr>\n",
       "    <tr>\n",
       "      <th>2</th>\n",
       "      <td>NaN</td>\n",
       "      <td>Harry Potter and the Deathly Hallows Part 1</td>\n",
       "      <td>NaN</td>\n",
       "      <td>NaN</td>\n",
       "      <td>NaN</td>\n",
       "      <td>NaN</td>\n",
       "      <td>NaN</td>\n",
       "      <td>NaN</td>\n",
       "      <td>WB</td>\n",
       "      <td>296000000.0</td>\n",
       "      <td>664300000</td>\n",
       "      <td>2010</td>\n",
       "    </tr>\n",
       "    <tr>\n",
       "      <th>3</th>\n",
       "      <td>tt1375666</td>\n",
       "      <td>Inception</td>\n",
       "      <td>Inception</td>\n",
       "      <td>2010.0</td>\n",
       "      <td>148.0</td>\n",
       "      <td>Action,Adventure,Sci-Fi</td>\n",
       "      <td>8.8</td>\n",
       "      <td>1841066.0</td>\n",
       "      <td>WB</td>\n",
       "      <td>292600000.0</td>\n",
       "      <td>535700000</td>\n",
       "      <td>2010</td>\n",
       "    </tr>\n",
       "    <tr>\n",
       "      <th>4</th>\n",
       "      <td>tt0892791</td>\n",
       "      <td>Shrek Forever After</td>\n",
       "      <td>Shrek Forever After</td>\n",
       "      <td>2010.0</td>\n",
       "      <td>93.0</td>\n",
       "      <td>Adventure,Animation,Comedy</td>\n",
       "      <td>6.3</td>\n",
       "      <td>167532.0</td>\n",
       "      <td>P/DW</td>\n",
       "      <td>238700000.0</td>\n",
       "      <td>513900000</td>\n",
       "      <td>2010</td>\n",
       "    </tr>\n",
       "  </tbody>\n",
       "</table>\n",
       "</div>"
      ],
      "text/plain": [
       "      tconst                                primary_title  \\\n",
       "0  tt0435761                                  Toy Story 3   \n",
       "1        NaN                   Alice in Wonderland (2010)   \n",
       "2        NaN  Harry Potter and the Deathly Hallows Part 1   \n",
       "3  tt1375666                                    Inception   \n",
       "4  tt0892791                          Shrek Forever After   \n",
       "\n",
       "        original_title  start_year  runtime_minutes  \\\n",
       "0          Toy Story 3      2010.0            103.0   \n",
       "1                  NaN         NaN              NaN   \n",
       "2                  NaN         NaN              NaN   \n",
       "3            Inception      2010.0            148.0   \n",
       "4  Shrek Forever After      2010.0             93.0   \n",
       "\n",
       "                       genres  averagerating   numvotes studio  \\\n",
       "0  Adventure,Animation,Comedy            8.3   682218.0     BV   \n",
       "1                         NaN            NaN        NaN     BV   \n",
       "2                         NaN            NaN        NaN     WB   \n",
       "3     Action,Adventure,Sci-Fi            8.8  1841066.0     WB   \n",
       "4  Adventure,Animation,Comedy            6.3   167532.0   P/DW   \n",
       "\n",
       "   domestic_gross foreign_gross  year  \n",
       "0     415000000.0     652000000  2010  \n",
       "1     334200000.0     691300000  2010  \n",
       "2     296000000.0     664300000  2010  \n",
       "3     292600000.0     535700000  2010  \n",
       "4     238700000.0     513900000  2010  "
      ]
     },
     "execution_count": 15,
     "metadata": {},
     "output_type": "execute_result"
    }
   ],
   "source": [
    "## Now i want to add again df3 to df1_df2 using title of movie as ID\n",
    "## I will use the primary title as my key\n",
    "## This means we will have to rename the title name of the movies in bom-data-set first\n",
    "\n",
    "df3 = df3.rename(columns={\"title\": \"primary_title\"})\n",
    "\n",
    "df = df1_df2.merge(df3, how=\"right\", on=\"primary_title\")\n",
    "## right join return all the rows from the right datafram(bom dataset) and the matched rows from the left(df1_df2), if no match then its NaN\n",
    "df.head()"
   ]
  },
  {
   "cell_type": "markdown",
   "id": "d365e99d-d9a2-490d-8da8-2d26e2e8b32a",
   "metadata": {},
   "source": [
    "## 5. Preview of our merged dataset"
   ]
  },
  {
   "cell_type": "code",
   "execution_count": 16,
   "id": "54141494-0673-4ca7-af62-6c1d160c32fb",
   "metadata": {},
   "outputs": [
    {
     "data": {
      "text/plain": [
       "(2233, 12)"
      ]
     },
     "execution_count": 16,
     "metadata": {},
     "output_type": "execute_result"
    }
   ],
   "source": [
    "df.shape ## I have observed that the number of rows has significantly reduced"
   ]
  },
  {
   "cell_type": "code",
   "execution_count": 17,
   "id": "7073207b-65c8-4130-b266-d452c97af404",
   "metadata": {},
   "outputs": [
    {
     "data": {
      "text/plain": [
       "tconst             466\n",
       "primary_title        0\n",
       "original_title     466\n",
       "start_year         466\n",
       "runtime_minutes    466\n",
       "genres             466\n",
       "averagerating      466\n",
       "numvotes           466\n",
       "studio               0\n",
       "domestic_gross       0\n",
       "foreign_gross        0\n",
       "year                 0\n",
       "dtype: int64"
      ]
     },
     "execution_count": 17,
     "metadata": {},
     "output_type": "execute_result"
    }
   ],
   "source": [
    "df.isna().sum() ## Checking for missing values"
   ]
  },
  {
   "cell_type": "code",
   "execution_count": 18,
   "id": "11f6963e-3f8c-4a02-90b4-1ff0e31f1033",
   "metadata": {},
   "outputs": [
    {
     "data": {
      "text/plain": [
       "tconst              object\n",
       "primary_title       object\n",
       "original_title      object\n",
       "start_year         float64\n",
       "runtime_minutes    float64\n",
       "genres              object\n",
       "averagerating      float64\n",
       "numvotes           float64\n",
       "studio              object\n",
       "domestic_gross     float64\n",
       "foreign_gross       object\n",
       "year                 int64\n",
       "dtype: object"
      ]
     },
     "execution_count": 18,
     "metadata": {},
     "output_type": "execute_result"
    }
   ],
   "source": [
    "df.dtypes ## Checking for the variable types that we have in our new dataset"
   ]
  },
  {
   "cell_type": "code",
   "execution_count": 19,
   "id": "f765a6d1-3d2b-476d-a7a0-44c7fd5d975b",
   "metadata": {},
   "outputs": [
    {
     "data": {
      "text/html": [
       "<div>\n",
       "<style scoped>\n",
       "    .dataframe tbody tr th:only-of-type {\n",
       "        vertical-align: middle;\n",
       "    }\n",
       "\n",
       "    .dataframe tbody tr th {\n",
       "        vertical-align: top;\n",
       "    }\n",
       "\n",
       "    .dataframe thead th {\n",
       "        text-align: right;\n",
       "    }\n",
       "</style>\n",
       "<table border=\"1\" class=\"dataframe\">\n",
       "  <thead>\n",
       "    <tr style=\"text-align: right;\">\n",
       "      <th></th>\n",
       "      <th>tconst</th>\n",
       "      <th>primary_title</th>\n",
       "      <th>original_title</th>\n",
       "      <th>start_year</th>\n",
       "      <th>runtime_minutes</th>\n",
       "      <th>genres</th>\n",
       "      <th>averagerating</th>\n",
       "      <th>numvotes</th>\n",
       "      <th>studio</th>\n",
       "      <th>domestic_gross</th>\n",
       "      <th>foreign_gross</th>\n",
       "      <th>year</th>\n",
       "    </tr>\n",
       "  </thead>\n",
       "  <tbody>\n",
       "    <tr>\n",
       "      <th>0</th>\n",
       "      <td>tt0435761</td>\n",
       "      <td>Toy Story 3</td>\n",
       "      <td>Toy Story 3</td>\n",
       "      <td>2010.0</td>\n",
       "      <td>103.0</td>\n",
       "      <td>Adventure,Animation,Comedy</td>\n",
       "      <td>8.3</td>\n",
       "      <td>682218.0</td>\n",
       "      <td>BV</td>\n",
       "      <td>415000000.0</td>\n",
       "      <td>652000000</td>\n",
       "      <td>2010</td>\n",
       "    </tr>\n",
       "    <tr>\n",
       "      <th>1</th>\n",
       "      <td>NaN</td>\n",
       "      <td>Alice in Wonderland (2010)</td>\n",
       "      <td>NaN</td>\n",
       "      <td>NaN</td>\n",
       "      <td>NaN</td>\n",
       "      <td>NaN</td>\n",
       "      <td>NaN</td>\n",
       "      <td>NaN</td>\n",
       "      <td>BV</td>\n",
       "      <td>334200000.0</td>\n",
       "      <td>691300000</td>\n",
       "      <td>2010</td>\n",
       "    </tr>\n",
       "    <tr>\n",
       "      <th>2</th>\n",
       "      <td>NaN</td>\n",
       "      <td>Harry Potter and the Deathly Hallows Part 1</td>\n",
       "      <td>NaN</td>\n",
       "      <td>NaN</td>\n",
       "      <td>NaN</td>\n",
       "      <td>NaN</td>\n",
       "      <td>NaN</td>\n",
       "      <td>NaN</td>\n",
       "      <td>WB</td>\n",
       "      <td>296000000.0</td>\n",
       "      <td>664300000</td>\n",
       "      <td>2010</td>\n",
       "    </tr>\n",
       "    <tr>\n",
       "      <th>3</th>\n",
       "      <td>tt1375666</td>\n",
       "      <td>Inception</td>\n",
       "      <td>Inception</td>\n",
       "      <td>2010.0</td>\n",
       "      <td>148.0</td>\n",
       "      <td>Action,Adventure,Sci-Fi</td>\n",
       "      <td>8.8</td>\n",
       "      <td>1841066.0</td>\n",
       "      <td>WB</td>\n",
       "      <td>292600000.0</td>\n",
       "      <td>535700000</td>\n",
       "      <td>2010</td>\n",
       "    </tr>\n",
       "    <tr>\n",
       "      <th>4</th>\n",
       "      <td>tt0892791</td>\n",
       "      <td>Shrek Forever After</td>\n",
       "      <td>Shrek Forever After</td>\n",
       "      <td>2010.0</td>\n",
       "      <td>93.0</td>\n",
       "      <td>Adventure,Animation,Comedy</td>\n",
       "      <td>6.3</td>\n",
       "      <td>167532.0</td>\n",
       "      <td>P/DW</td>\n",
       "      <td>238700000.0</td>\n",
       "      <td>513900000</td>\n",
       "      <td>2010</td>\n",
       "    </tr>\n",
       "    <tr>\n",
       "      <th>5</th>\n",
       "      <td>tt1325004</td>\n",
       "      <td>The Twilight Saga: Eclipse</td>\n",
       "      <td>The Twilight Saga: Eclipse</td>\n",
       "      <td>2010.0</td>\n",
       "      <td>124.0</td>\n",
       "      <td>Adventure,Drama,Fantasy</td>\n",
       "      <td>5.0</td>\n",
       "      <td>211733.0</td>\n",
       "      <td>Sum.</td>\n",
       "      <td>300500000.0</td>\n",
       "      <td>398000000</td>\n",
       "      <td>2010</td>\n",
       "    </tr>\n",
       "    <tr>\n",
       "      <th>6</th>\n",
       "      <td>tt1228705</td>\n",
       "      <td>Iron Man 2</td>\n",
       "      <td>Iron Man 2</td>\n",
       "      <td>2010.0</td>\n",
       "      <td>124.0</td>\n",
       "      <td>Action,Adventure,Sci-Fi</td>\n",
       "      <td>7.0</td>\n",
       "      <td>657690.0</td>\n",
       "      <td>Par.</td>\n",
       "      <td>312400000.0</td>\n",
       "      <td>311500000</td>\n",
       "      <td>2010</td>\n",
       "    </tr>\n",
       "    <tr>\n",
       "      <th>7</th>\n",
       "      <td>tt0398286</td>\n",
       "      <td>Tangled</td>\n",
       "      <td>Tangled</td>\n",
       "      <td>2010.0</td>\n",
       "      <td>100.0</td>\n",
       "      <td>Adventure,Animation,Comedy</td>\n",
       "      <td>7.8</td>\n",
       "      <td>366366.0</td>\n",
       "      <td>BV</td>\n",
       "      <td>200800000.0</td>\n",
       "      <td>391000000</td>\n",
       "      <td>2010</td>\n",
       "    </tr>\n",
       "    <tr>\n",
       "      <th>8</th>\n",
       "      <td>tt1323594</td>\n",
       "      <td>Despicable Me</td>\n",
       "      <td>Despicable Me</td>\n",
       "      <td>2010.0</td>\n",
       "      <td>95.0</td>\n",
       "      <td>Animation,Comedy,Family</td>\n",
       "      <td>7.7</td>\n",
       "      <td>464511.0</td>\n",
       "      <td>Uni.</td>\n",
       "      <td>251500000.0</td>\n",
       "      <td>291600000</td>\n",
       "      <td>2010</td>\n",
       "    </tr>\n",
       "    <tr>\n",
       "      <th>9</th>\n",
       "      <td>tt0892769</td>\n",
       "      <td>How to Train Your Dragon</td>\n",
       "      <td>How to Train Your Dragon</td>\n",
       "      <td>2010.0</td>\n",
       "      <td>98.0</td>\n",
       "      <td>Action,Adventure,Animation</td>\n",
       "      <td>8.1</td>\n",
       "      <td>611299.0</td>\n",
       "      <td>P/DW</td>\n",
       "      <td>217600000.0</td>\n",
       "      <td>277300000</td>\n",
       "      <td>2010</td>\n",
       "    </tr>\n",
       "  </tbody>\n",
       "</table>\n",
       "</div>"
      ],
      "text/plain": [
       "      tconst                                primary_title  \\\n",
       "0  tt0435761                                  Toy Story 3   \n",
       "1        NaN                   Alice in Wonderland (2010)   \n",
       "2        NaN  Harry Potter and the Deathly Hallows Part 1   \n",
       "3  tt1375666                                    Inception   \n",
       "4  tt0892791                          Shrek Forever After   \n",
       "5  tt1325004                   The Twilight Saga: Eclipse   \n",
       "6  tt1228705                                   Iron Man 2   \n",
       "7  tt0398286                                      Tangled   \n",
       "8  tt1323594                                Despicable Me   \n",
       "9  tt0892769                     How to Train Your Dragon   \n",
       "\n",
       "               original_title  start_year  runtime_minutes  \\\n",
       "0                 Toy Story 3      2010.0            103.0   \n",
       "1                         NaN         NaN              NaN   \n",
       "2                         NaN         NaN              NaN   \n",
       "3                   Inception      2010.0            148.0   \n",
       "4         Shrek Forever After      2010.0             93.0   \n",
       "5  The Twilight Saga: Eclipse      2010.0            124.0   \n",
       "6                  Iron Man 2      2010.0            124.0   \n",
       "7                     Tangled      2010.0            100.0   \n",
       "8               Despicable Me      2010.0             95.0   \n",
       "9    How to Train Your Dragon      2010.0             98.0   \n",
       "\n",
       "                       genres  averagerating   numvotes studio  \\\n",
       "0  Adventure,Animation,Comedy            8.3   682218.0     BV   \n",
       "1                         NaN            NaN        NaN     BV   \n",
       "2                         NaN            NaN        NaN     WB   \n",
       "3     Action,Adventure,Sci-Fi            8.8  1841066.0     WB   \n",
       "4  Adventure,Animation,Comedy            6.3   167532.0   P/DW   \n",
       "5     Adventure,Drama,Fantasy            5.0   211733.0   Sum.   \n",
       "6     Action,Adventure,Sci-Fi            7.0   657690.0   Par.   \n",
       "7  Adventure,Animation,Comedy            7.8   366366.0     BV   \n",
       "8     Animation,Comedy,Family            7.7   464511.0   Uni.   \n",
       "9  Action,Adventure,Animation            8.1   611299.0   P/DW   \n",
       "\n",
       "   domestic_gross foreign_gross  year  \n",
       "0     415000000.0     652000000  2010  \n",
       "1     334200000.0     691300000  2010  \n",
       "2     296000000.0     664300000  2010  \n",
       "3     292600000.0     535700000  2010  \n",
       "4     238700000.0     513900000  2010  \n",
       "5     300500000.0     398000000  2010  \n",
       "6     312400000.0     311500000  2010  \n",
       "7     200800000.0     391000000  2010  \n",
       "8     251500000.0     291600000  2010  \n",
       "9     217600000.0     277300000  2010  "
      ]
     },
     "execution_count": 19,
     "metadata": {},
     "output_type": "execute_result"
    }
   ],
   "source": [
    "df.head(10) ## previewing the first 10 entries"
   ]
  },
  {
   "cell_type": "code",
   "execution_count": 20,
   "id": "f5b921df-7d3c-40c2-9a5f-7a5697172447",
   "metadata": {},
   "outputs": [
    {
     "data": {
      "text/html": [
       "<div>\n",
       "<style scoped>\n",
       "    .dataframe tbody tr th:only-of-type {\n",
       "        vertical-align: middle;\n",
       "    }\n",
       "\n",
       "    .dataframe tbody tr th {\n",
       "        vertical-align: top;\n",
       "    }\n",
       "\n",
       "    .dataframe thead th {\n",
       "        text-align: right;\n",
       "    }\n",
       "</style>\n",
       "<table border=\"1\" class=\"dataframe\">\n",
       "  <thead>\n",
       "    <tr style=\"text-align: right;\">\n",
       "      <th></th>\n",
       "      <th>start_year</th>\n",
       "      <th>runtime_minutes</th>\n",
       "      <th>averagerating</th>\n",
       "      <th>numvotes</th>\n",
       "      <th>domestic_gross</th>\n",
       "      <th>year</th>\n",
       "    </tr>\n",
       "  </thead>\n",
       "  <tbody>\n",
       "    <tr>\n",
       "      <th>count</th>\n",
       "      <td>1767.000000</td>\n",
       "      <td>1767.000000</td>\n",
       "      <td>1767.000000</td>\n",
       "      <td>1.767000e+03</td>\n",
       "      <td>2.233000e+03</td>\n",
       "      <td>2233.000000</td>\n",
       "    </tr>\n",
       "    <tr>\n",
       "      <th>mean</th>\n",
       "      <td>2013.559706</td>\n",
       "      <td>107.895869</td>\n",
       "      <td>6.459706</td>\n",
       "      <td>9.692010e+04</td>\n",
       "      <td>4.686919e+07</td>\n",
       "      <td>2013.528885</td>\n",
       "    </tr>\n",
       "    <tr>\n",
       "      <th>std</th>\n",
       "      <td>2.621180</td>\n",
       "      <td>20.105904</td>\n",
       "      <td>0.991033</td>\n",
       "      <td>1.539057e+05</td>\n",
       "      <td>8.089320e+07</td>\n",
       "      <td>2.608264</td>\n",
       "    </tr>\n",
       "    <tr>\n",
       "      <th>min</th>\n",
       "      <td>2010.000000</td>\n",
       "      <td>3.000000</td>\n",
       "      <td>1.600000</td>\n",
       "      <td>5.000000e+00</td>\n",
       "      <td>4.000000e+02</td>\n",
       "      <td>2010.000000</td>\n",
       "    </tr>\n",
       "    <tr>\n",
       "      <th>25%</th>\n",
       "      <td>2011.000000</td>\n",
       "      <td>95.000000</td>\n",
       "      <td>5.900000</td>\n",
       "      <td>6.392500e+03</td>\n",
       "      <td>7.080000e+05</td>\n",
       "      <td>2011.000000</td>\n",
       "    </tr>\n",
       "    <tr>\n",
       "      <th>50%</th>\n",
       "      <td>2013.000000</td>\n",
       "      <td>106.000000</td>\n",
       "      <td>6.500000</td>\n",
       "      <td>3.987000e+04</td>\n",
       "      <td>1.710000e+07</td>\n",
       "      <td>2013.000000</td>\n",
       "    </tr>\n",
       "    <tr>\n",
       "      <th>75%</th>\n",
       "      <td>2016.000000</td>\n",
       "      <td>119.000000</td>\n",
       "      <td>7.100000</td>\n",
       "      <td>1.171330e+05</td>\n",
       "      <td>5.600000e+07</td>\n",
       "      <td>2016.000000</td>\n",
       "    </tr>\n",
       "    <tr>\n",
       "      <th>max</th>\n",
       "      <td>2019.000000</td>\n",
       "      <td>272.000000</td>\n",
       "      <td>9.200000</td>\n",
       "      <td>1.841066e+06</td>\n",
       "      <td>9.367000e+08</td>\n",
       "      <td>2018.000000</td>\n",
       "    </tr>\n",
       "  </tbody>\n",
       "</table>\n",
       "</div>"
      ],
      "text/plain": [
       "        start_year  runtime_minutes  averagerating      numvotes  \\\n",
       "count  1767.000000      1767.000000    1767.000000  1.767000e+03   \n",
       "mean   2013.559706       107.895869       6.459706  9.692010e+04   \n",
       "std       2.621180        20.105904       0.991033  1.539057e+05   \n",
       "min    2010.000000         3.000000       1.600000  5.000000e+00   \n",
       "25%    2011.000000        95.000000       5.900000  6.392500e+03   \n",
       "50%    2013.000000       106.000000       6.500000  3.987000e+04   \n",
       "75%    2016.000000       119.000000       7.100000  1.171330e+05   \n",
       "max    2019.000000       272.000000       9.200000  1.841066e+06   \n",
       "\n",
       "       domestic_gross         year  \n",
       "count    2.233000e+03  2233.000000  \n",
       "mean     4.686919e+07  2013.528885  \n",
       "std      8.089320e+07     2.608264  \n",
       "min      4.000000e+02  2010.000000  \n",
       "25%      7.080000e+05  2011.000000  \n",
       "50%      1.710000e+07  2013.000000  \n",
       "75%      5.600000e+07  2016.000000  \n",
       "max      9.367000e+08  2018.000000  "
      ]
     },
     "execution_count": 20,
     "metadata": {},
     "output_type": "execute_result"
    }
   ],
   "source": [
    "df.describe()"
   ]
  },
  {
   "cell_type": "markdown",
   "id": "be816cbd-3303-4c4e-ada8-56d12a2d20d3",
   "metadata": {},
   "source": [
    "## 6. Data Cleaning"
   ]
  },
  {
   "cell_type": "code",
   "execution_count": 21,
   "id": "b4c7bba7-99ef-435e-842a-672bdf87d750",
   "metadata": {},
   "outputs": [],
   "source": [
    "### I want first let me make a copy of the dataset i will be using for cleaning\n",
    "df_cleaning = df.copy(deep = True)"
   ]
  },
  {
   "cell_type": "markdown",
   "id": "0e9db8f0-5f51-4675-9d7e-80451d5c2e31",
   "metadata": {},
   "source": [
    "Lets first drop the NA rows by tconst so that we continue"
   ]
  },
  {
   "cell_type": "code",
   "execution_count": 22,
   "id": "eb5a0f3f-1174-4aa0-9839-1dbe720beec8",
   "metadata": {},
   "outputs": [
    {
     "data": {
      "text/plain": [
       "tconst             0\n",
       "primary_title      0\n",
       "original_title     0\n",
       "start_year         0\n",
       "runtime_minutes    0\n",
       "genres             0\n",
       "averagerating      0\n",
       "numvotes           0\n",
       "studio             0\n",
       "domestic_gross     0\n",
       "foreign_gross      0\n",
       "year               0\n",
       "dtype: int64"
      ]
     },
     "execution_count": 22,
     "metadata": {},
     "output_type": "execute_result"
    }
   ],
   "source": [
    "df_cleaning.dropna(axis= 0,inplace = True)\n",
    "df_cleaning.isna().sum()"
   ]
  },
  {
   "cell_type": "code",
   "execution_count": 23,
   "id": "1094ddd8-421b-4116-857f-03b8ef170b2d",
   "metadata": {},
   "outputs": [
    {
     "name": "stdout",
     "output_type": "stream",
     "text": [
      "(1767, 12)\n"
     ]
    }
   ],
   "source": [
    "print(df_cleaning.shape)"
   ]
  },
  {
   "cell_type": "markdown",
   "id": "9d8a09ed-02ce-42ab-8839-7a808214ec3f",
   "metadata": {},
   "source": [
    "##### 6.1 Ensuring variable types are coherent"
   ]
  },
  {
   "cell_type": "code",
   "execution_count": 24,
   "id": "b313df14-2914-4692-b246-f136120e5376",
   "metadata": {},
   "outputs": [
    {
     "data": {
      "text/plain": [
       "count        1767\n",
       "unique        999\n",
       "top       1200000\n",
       "freq           16\n",
       "Name: foreign_gross, dtype: object"
      ]
     },
     "execution_count": 24,
     "metadata": {},
     "output_type": "execute_result"
    }
   ],
   "source": [
    "### i noticed the foreign_gross variable is an object yet it has integer/float values\n",
    "df_cleaning['foreign_gross'].describe()"
   ]
  },
  {
   "cell_type": "code",
   "execution_count": 25,
   "id": "902d06e9-98a6-4f5b-8104-e3367e08ff33",
   "metadata": {},
   "outputs": [],
   "source": [
    "##Firstly, i have noticed there are some values that needs particular attention i.e., '1,019.4', i have to replace the commas\n",
    "df_cleaning['foreign_gross'] = df_cleaning['foreign_gross'].str.replace(\",\", \"\")"
   ]
  },
  {
   "cell_type": "code",
   "execution_count": 26,
   "id": "fd527a4a-dc9c-47d4-91ac-253c325d9a10",
   "metadata": {},
   "outputs": [],
   "source": [
    "### so we have to convert it to a float\n",
    "df_cleaning['foreign_gross'] = df_cleaning['foreign_gross'].astype(float)"
   ]
  },
  {
   "cell_type": "code",
   "execution_count": 27,
   "id": "759eca77-3593-4f01-8457-9571e7a3ecf6",
   "metadata": {},
   "outputs": [],
   "source": [
    "## converting year into an integer\n",
    "df_cleaning['start_year'] = df_cleaning['start_year'].astype(int)"
   ]
  },
  {
   "cell_type": "code",
   "execution_count": 28,
   "id": "c9b95a1f-904f-4867-81c4-a9d8f4fc35b2",
   "metadata": {},
   "outputs": [
    {
     "data": {
      "text/plain": [
       "tconst              object\n",
       "primary_title       object\n",
       "original_title      object\n",
       "start_year           int32\n",
       "runtime_minutes    float64\n",
       "genres              object\n",
       "averagerating      float64\n",
       "numvotes           float64\n",
       "studio              object\n",
       "domestic_gross     float64\n",
       "foreign_gross      float64\n",
       "year                 int64\n",
       "dtype: object"
      ]
     },
     "execution_count": 28,
     "metadata": {},
     "output_type": "execute_result"
    }
   ],
   "source": [
    "df_cleaning.dtypes ## perfect, all my variables are as i expect them to be"
   ]
  },
  {
   "cell_type": "markdown",
   "id": "4a4fdb43-a831-4dab-ac0c-0816f0117c4b",
   "metadata": {},
   "source": [
    "##### 6.2 Imputing the missing values"
   ]
  },
  {
   "cell_type": "markdown",
   "id": "9e58d635-18e5-4c63-b5f4-c153726dd0b5",
   "metadata": {},
   "source": [
    "The columns that have missing values from what we saw up there are the following;"
   ]
  },
  {
   "cell_type": "code",
   "execution_count": 29,
   "id": "71af9328-86d0-498c-98bc-f0fb7f130c50",
   "metadata": {},
   "outputs": [
    {
     "data": {
      "text/plain": [
       "tconst             0\n",
       "primary_title      0\n",
       "original_title     0\n",
       "start_year         0\n",
       "runtime_minutes    0\n",
       "genres             0\n",
       "averagerating      0\n",
       "numvotes           0\n",
       "studio             0\n",
       "domestic_gross     0\n",
       "foreign_gross      0\n",
       "year               0\n",
       "dtype: int64"
      ]
     },
     "execution_count": 29,
     "metadata": {},
     "output_type": "execute_result"
    }
   ],
   "source": [
    "df_cleaning.isnull().sum().sort_values(ascending=False)\n",
    "## Lucky me, i do not have missing values"
   ]
  },
  {
   "cell_type": "code",
   "execution_count": 30,
   "id": "d73332ac-9d85-4432-9a0e-64207d5a847a",
   "metadata": {},
   "outputs": [
    {
     "data": {
      "text/html": [
       "<div>\n",
       "<style scoped>\n",
       "    .dataframe tbody tr th:only-of-type {\n",
       "        vertical-align: middle;\n",
       "    }\n",
       "\n",
       "    .dataframe tbody tr th {\n",
       "        vertical-align: top;\n",
       "    }\n",
       "\n",
       "    .dataframe thead th {\n",
       "        text-align: right;\n",
       "    }\n",
       "</style>\n",
       "<table border=\"1\" class=\"dataframe\">\n",
       "  <thead>\n",
       "    <tr style=\"text-align: right;\">\n",
       "      <th></th>\n",
       "      <th>tconst</th>\n",
       "      <th>primary_title</th>\n",
       "      <th>original_title</th>\n",
       "      <th>start_year</th>\n",
       "      <th>runtime_minutes</th>\n",
       "      <th>genres</th>\n",
       "      <th>averagerating</th>\n",
       "      <th>numvotes</th>\n",
       "      <th>studio</th>\n",
       "      <th>domestic_gross</th>\n",
       "      <th>foreign_gross</th>\n",
       "      <th>year</th>\n",
       "    </tr>\n",
       "  </thead>\n",
       "  <tbody>\n",
       "    <tr>\n",
       "      <th>0</th>\n",
       "      <td>tt0435761</td>\n",
       "      <td>Toy Story 3</td>\n",
       "      <td>Toy Story 3</td>\n",
       "      <td>2010</td>\n",
       "      <td>103.0</td>\n",
       "      <td>Adventure,Animation,Comedy</td>\n",
       "      <td>8.3</td>\n",
       "      <td>682218.0</td>\n",
       "      <td>BV</td>\n",
       "      <td>415000000.0</td>\n",
       "      <td>652000000.0</td>\n",
       "      <td>2010</td>\n",
       "    </tr>\n",
       "    <tr>\n",
       "      <th>3</th>\n",
       "      <td>tt1375666</td>\n",
       "      <td>Inception</td>\n",
       "      <td>Inception</td>\n",
       "      <td>2010</td>\n",
       "      <td>148.0</td>\n",
       "      <td>Action,Adventure,Sci-Fi</td>\n",
       "      <td>8.8</td>\n",
       "      <td>1841066.0</td>\n",
       "      <td>WB</td>\n",
       "      <td>292600000.0</td>\n",
       "      <td>535700000.0</td>\n",
       "      <td>2010</td>\n",
       "    </tr>\n",
       "  </tbody>\n",
       "</table>\n",
       "</div>"
      ],
      "text/plain": [
       "      tconst primary_title original_title  start_year  runtime_minutes  \\\n",
       "0  tt0435761   Toy Story 3    Toy Story 3        2010            103.0   \n",
       "3  tt1375666     Inception      Inception        2010            148.0   \n",
       "\n",
       "                       genres  averagerating   numvotes studio  \\\n",
       "0  Adventure,Animation,Comedy            8.3   682218.0     BV   \n",
       "3     Action,Adventure,Sci-Fi            8.8  1841066.0     WB   \n",
       "\n",
       "   domestic_gross  foreign_gross  year  \n",
       "0     415000000.0    652000000.0  2010  \n",
       "3     292600000.0    535700000.0  2010  "
      ]
     },
     "execution_count": 30,
     "metadata": {},
     "output_type": "execute_result"
    }
   ],
   "source": [
    "### Now that i have dealt with the missing values, let me assign the dataset a new name so that i continue with other checks\n",
    "df_cleaning2 = df_cleaning.copy(deep = True)\n",
    "df_cleaning2.head(2)"
   ]
  },
  {
   "cell_type": "markdown",
   "id": "67485ebf-ae66-4258-94c3-8710ee759871",
   "metadata": {},
   "source": [
    "##### 6.3 Keeping only the relevant columns"
   ]
  },
  {
   "cell_type": "code",
   "execution_count": 31,
   "id": "14df6430-8c65-4e5b-8848-ab72814c89b7",
   "metadata": {},
   "outputs": [
    {
     "data": {
      "text/html": [
       "<div>\n",
       "<style scoped>\n",
       "    .dataframe tbody tr th:only-of-type {\n",
       "        vertical-align: middle;\n",
       "    }\n",
       "\n",
       "    .dataframe tbody tr th {\n",
       "        vertical-align: top;\n",
       "    }\n",
       "\n",
       "    .dataframe thead th {\n",
       "        text-align: right;\n",
       "    }\n",
       "</style>\n",
       "<table border=\"1\" class=\"dataframe\">\n",
       "  <thead>\n",
       "    <tr style=\"text-align: right;\">\n",
       "      <th></th>\n",
       "      <th>tconst</th>\n",
       "      <th>primary_title</th>\n",
       "      <th>start_year</th>\n",
       "      <th>runtime_minutes</th>\n",
       "      <th>genres</th>\n",
       "      <th>averagerating</th>\n",
       "      <th>numvotes</th>\n",
       "      <th>studio</th>\n",
       "      <th>domestic_gross</th>\n",
       "      <th>foreign_gross</th>\n",
       "      <th>year</th>\n",
       "    </tr>\n",
       "  </thead>\n",
       "  <tbody>\n",
       "    <tr>\n",
       "      <th>0</th>\n",
       "      <td>tt0435761</td>\n",
       "      <td>Toy Story 3</td>\n",
       "      <td>2010</td>\n",
       "      <td>103.0</td>\n",
       "      <td>Adventure,Animation,Comedy</td>\n",
       "      <td>8.3</td>\n",
       "      <td>682218.0</td>\n",
       "      <td>BV</td>\n",
       "      <td>415000000.0</td>\n",
       "      <td>652000000.0</td>\n",
       "      <td>2010</td>\n",
       "    </tr>\n",
       "    <tr>\n",
       "      <th>3</th>\n",
       "      <td>tt1375666</td>\n",
       "      <td>Inception</td>\n",
       "      <td>2010</td>\n",
       "      <td>148.0</td>\n",
       "      <td>Action,Adventure,Sci-Fi</td>\n",
       "      <td>8.8</td>\n",
       "      <td>1841066.0</td>\n",
       "      <td>WB</td>\n",
       "      <td>292600000.0</td>\n",
       "      <td>535700000.0</td>\n",
       "      <td>2010</td>\n",
       "    </tr>\n",
       "  </tbody>\n",
       "</table>\n",
       "</div>"
      ],
      "text/plain": [
       "      tconst primary_title  start_year  runtime_minutes  \\\n",
       "0  tt0435761   Toy Story 3        2010            103.0   \n",
       "3  tt1375666     Inception        2010            148.0   \n",
       "\n",
       "                       genres  averagerating   numvotes studio  \\\n",
       "0  Adventure,Animation,Comedy            8.3   682218.0     BV   \n",
       "3     Action,Adventure,Sci-Fi            8.8  1841066.0     WB   \n",
       "\n",
       "   domestic_gross  foreign_gross  year  \n",
       "0     415000000.0    652000000.0  2010  \n",
       "3     292600000.0    535700000.0  2010  "
      ]
     },
     "execution_count": 31,
     "metadata": {},
     "output_type": "execute_result"
    }
   ],
   "source": [
    "df_cleaning2.drop(columns = [\"original_title\"], inplace = True)\n",
    "df_cleaning2.head(2)"
   ]
  },
  {
   "cell_type": "markdown",
   "id": "6e3f291f-262d-4b42-a314-5fa580db71ad",
   "metadata": {},
   "source": [
    "##### 6.4 Stripping off spaces in the string columns(if any)"
   ]
  },
  {
   "cell_type": "code",
   "execution_count": 32,
   "id": "c3c0b2b1-08f7-4e60-928b-27e65c583e83",
   "metadata": {},
   "outputs": [
    {
     "data": {
      "text/html": [
       "<div>\n",
       "<style scoped>\n",
       "    .dataframe tbody tr th:only-of-type {\n",
       "        vertical-align: middle;\n",
       "    }\n",
       "\n",
       "    .dataframe tbody tr th {\n",
       "        vertical-align: top;\n",
       "    }\n",
       "\n",
       "    .dataframe thead th {\n",
       "        text-align: right;\n",
       "    }\n",
       "</style>\n",
       "<table border=\"1\" class=\"dataframe\">\n",
       "  <thead>\n",
       "    <tr style=\"text-align: right;\">\n",
       "      <th></th>\n",
       "      <th>tconst</th>\n",
       "      <th>primary_title</th>\n",
       "      <th>start_year</th>\n",
       "      <th>runtime_minutes</th>\n",
       "      <th>genres</th>\n",
       "      <th>averagerating</th>\n",
       "      <th>numvotes</th>\n",
       "      <th>studio</th>\n",
       "      <th>domestic_gross</th>\n",
       "      <th>foreign_gross</th>\n",
       "      <th>year</th>\n",
       "    </tr>\n",
       "  </thead>\n",
       "  <tbody>\n",
       "    <tr>\n",
       "      <th>0</th>\n",
       "      <td>tt0435761</td>\n",
       "      <td>Toy Story 3</td>\n",
       "      <td>2010</td>\n",
       "      <td>103.0</td>\n",
       "      <td>Adventure,Animation,Comedy</td>\n",
       "      <td>8.3</td>\n",
       "      <td>682218.0</td>\n",
       "      <td>BV</td>\n",
       "      <td>415000000.0</td>\n",
       "      <td>652000000.0</td>\n",
       "      <td>2010</td>\n",
       "    </tr>\n",
       "    <tr>\n",
       "      <th>3</th>\n",
       "      <td>tt1375666</td>\n",
       "      <td>Inception</td>\n",
       "      <td>2010</td>\n",
       "      <td>148.0</td>\n",
       "      <td>Action,Adventure,Sci-Fi</td>\n",
       "      <td>8.8</td>\n",
       "      <td>1841066.0</td>\n",
       "      <td>WB</td>\n",
       "      <td>292600000.0</td>\n",
       "      <td>535700000.0</td>\n",
       "      <td>2010</td>\n",
       "    </tr>\n",
       "  </tbody>\n",
       "</table>\n",
       "</div>"
      ],
      "text/plain": [
       "      tconst primary_title  start_year  runtime_minutes  \\\n",
       "0  tt0435761   Toy Story 3        2010            103.0   \n",
       "3  tt1375666     Inception        2010            148.0   \n",
       "\n",
       "                       genres  averagerating   numvotes studio  \\\n",
       "0  Adventure,Animation,Comedy            8.3   682218.0     BV   \n",
       "3     Action,Adventure,Sci-Fi            8.8  1841066.0     WB   \n",
       "\n",
       "   domestic_gross  foreign_gross  year  \n",
       "0     415000000.0    652000000.0  2010  \n",
       "3     292600000.0    535700000.0  2010  "
      ]
     },
     "execution_count": 32,
     "metadata": {},
     "output_type": "execute_result"
    }
   ],
   "source": [
    "columns_to_clean = [\"tconst\", \"primary_title\", \"genres\", \"studio\"]\n",
    "\n",
    "for col in columns_to_clean:\n",
    "    df_cleaning2[col] = df_cleaning2[col].str.strip()\n",
    "\n",
    "df_cleaning2.head(2)"
   ]
  },
  {
   "cell_type": "markdown",
   "id": "1fc4dbfa-60c1-486f-998a-f03690883633",
   "metadata": {},
   "source": [
    "##### 6.5 Checking for duplicates in our data"
   ]
  },
  {
   "cell_type": "code",
   "execution_count": 33,
   "id": "e3db5890-82b5-47c0-a986-74c032662cbc",
   "metadata": {},
   "outputs": [],
   "source": [
    "df_cleaning3 = df_cleaning2.copy(deep = True)"
   ]
  },
  {
   "cell_type": "code",
   "execution_count": 34,
   "id": "0bdd18b0-f66c-4b72-aca8-f863571643ea",
   "metadata": {},
   "outputs": [
    {
     "data": {
      "text/plain": [
       "0"
      ]
     },
     "execution_count": 34,
     "metadata": {},
     "output_type": "execute_result"
    }
   ],
   "source": [
    "df_cleaning3.duplicated().sum()"
   ]
  },
  {
   "cell_type": "code",
   "execution_count": 35,
   "id": "d860c5b9-59cc-4fb0-babe-6058049ebe9b",
   "metadata": {},
   "outputs": [],
   "source": [
    "### i dont have duplicates in my data so i am good to go to the next step"
   ]
  },
  {
   "cell_type": "markdown",
   "id": "7eefa0bb-8b68-4ef5-829f-e8b80ad706ef",
   "metadata": {},
   "source": [
    "##### 6.6 Checking for outliers"
   ]
  },
  {
   "cell_type": "markdown",
   "id": "a3155a40-8cd0-46fd-944f-322dc5b393f9",
   "metadata": {},
   "source": [
    "NB: i will use the numeric columns to check for outliers i.e., `runtime_minutes`, `averagerating`, `numvotes`, `domestic_gross`"
   ]
  },
  {
   "cell_type": "markdown",
   "id": "81fb95c8-f425-45e6-b19b-1f753a6c1cd2",
   "metadata": {},
   "source": [
    "Checking for outliers for instance in `runtime_minutes` variable"
   ]
  },
  {
   "cell_type": "code",
   "execution_count": 36,
   "id": "d81ceff2-0523-4bbd-8a08-05a2b6c103bc",
   "metadata": {},
   "outputs": [
    {
     "data": {
      "text/plain": [
       "Text(0.5, 1.0, 'Boxplot visual for runtime (minutes)')"
      ]
     },
     "execution_count": 36,
     "metadata": {},
     "output_type": "execute_result"
    },
    {
     "data": {
      "image/png": "[encoded data removed]",
      "text/plain": [
       "<Figure size 640x480 with 1 Axes>"
      ]
     },
     "metadata": {},
     "output_type": "display_data"
    }
   ],
   "source": [
    "sns.boxplot(df_cleaning3[\"runtime_minutes\"], \n",
    "            linewidth=.75,\n",
    "            notch=True, \n",
    "            showcaps=False,\n",
    "            flierprops={\"marker\": \"x\"},\n",
    "            boxprops={\"facecolor\": (.3, .5, .7, .5)},\n",
    "            medianprops={\"color\": \"r\", \"linewidth\": 2})\n",
    "\n",
    "plt.title(\"Boxplot visual for runtime (minutes)\")"
   ]
  },
  {
   "cell_type": "markdown",
   "id": "416995e4-6b76-4593-a637-b796ed69d354",
   "metadata": {},
   "source": [
    "I will use the interquartile range (IQR) method to deal with the outliers by clipping them.\n",
    "Clipping simply means that we are trim them to fit within a given interval"
   ]
  },
  {
   "cell_type": "code",
   "execution_count": 37,
   "id": "54c91bcd-1689-4115-a2dc-b575188f30a0",
   "metadata": {},
   "outputs": [],
   "source": [
    "## Function\n",
    "\n",
    "def handle_outliers(colmn):\n",
    "    Q1 = df_cleaning3[colmn].quantile(0.25)\n",
    "    Q3 = df_cleaning3[colmn].quantile(0.75)\n",
    "    IQR = Q3 - Q1\n",
    "    lower_bound = Q1 - 1.5 * IQR\n",
    "    upper_bound = Q3 + 1.5 * IQR\n",
    "    df_cleaning3[colmn] = df_cleaning3[colmn].clip(lower = lower_bound, upper = upper_bound)"
   ]
  },
  {
   "cell_type": "code",
   "execution_count": 38,
   "id": "f97eb9b8-fb31-4239-9c7e-a5fcd23e7ce0",
   "metadata": {},
   "outputs": [],
   "source": [
    "## lets now test if our function is working"
   ]
  },
  {
   "cell_type": "code",
   "execution_count": 39,
   "id": "84d78d5d-49bc-40bf-b828-4847c4897aa8",
   "metadata": {},
   "outputs": [],
   "source": [
    "handle_outliers(\"runtime_minutes\")"
   ]
  },
  {
   "cell_type": "code",
   "execution_count": 40,
   "id": "2aed0843-3c8a-462c-94f4-bdd1ade60b15",
   "metadata": {},
   "outputs": [
    {
     "data": {
      "text/plain": [
       "Text(0.5, 1.0, 'Boxplot visual for runtime (minutes)')"
      ]
     },
     "execution_count": 40,
     "metadata": {},
     "output_type": "execute_result"
    },
    {
     "data": {
      "image/png": "[encoded data removed]",
      "text/plain": [
       "<Figure size 640x480 with 1 Axes>"
      ]
     },
     "metadata": {},
     "output_type": "display_data"
    }
   ],
   "source": [
    "sns.boxplot(df_cleaning3[\"runtime_minutes\"], \n",
    "            linewidth=.75,\n",
    "            notch=True, \n",
    "            showcaps=False,\n",
    "            flierprops={\"marker\": \"x\"},\n",
    "            boxprops={\"facecolor\": (.3, .5, .7, .5)},\n",
    "            medianprops={\"color\": \"r\", \"linewidth\": 2})\n",
    "\n",
    "plt.title(\"Boxplot visual for runtime (minutes)\")"
   ]
  },
  {
   "cell_type": "markdown",
   "id": "60eb147c-27c0-4c1f-a866-8a8237e10f06",
   "metadata": {},
   "source": [
    "Yes, it has worked. Lets now clip the remaining columns using our `handle_outliers(colmn)` function"
   ]
  },
  {
   "cell_type": "code",
   "execution_count": 41,
   "id": "00e68e31-f40d-454b-95aa-0831376e51b4",
   "metadata": {},
   "outputs": [],
   "source": [
    "handle_outliers(\"averagerating\")\n",
    "handle_outliers(\"numvotes\")\n",
    "handle_outliers(\"runtime_minutes\")\n",
    "handle_outliers(\"domestic_gross\")\n",
    "handle_outliers(\"foreign_gross\")"
   ]
  },
  {
   "cell_type": "code",
   "execution_count": 42,
   "id": "e1106d78-b087-4344-8524-8f6a068f5578",
   "metadata": {},
   "outputs": [
    {
     "data": {
      "image/png": "[encoded data removed]",
      "text/plain": [
       "<Figure size 640x480 with 1 Axes>"
      ]
     },
     "metadata": {},
     "output_type": "display_data"
    },
    {
     "data": {
      "image/png": "[encoded data removed]",
      "text/plain": [
       "<Figure size 640x480 with 1 Axes>"
      ]
     },
     "metadata": {},
     "output_type": "display_data"
    },
    {
     "data": {
      "image/png": "[encoded data removed]",
      "text/plain": [
       "<Figure size 640x480 with 1 Axes>"
      ]
     },
     "metadata": {},
     "output_type": "display_data"
    },
    {
     "data": {
      "image/png": "[encoded data removed]",
      "text/plain": [
       "<Figure size 640x480 with 1 Axes>"
      ]
     },
     "metadata": {},
     "output_type": "display_data"
    },
    {
     "data": {
      "image/png": "[encoded data removed]",
      "text/plain": [
       "<Figure size 640x480 with 1 Axes>"
      ]
     },
     "metadata": {},
     "output_type": "display_data"
    }
   ],
   "source": [
    "selected_columns = ['averagerating', 'numvotes', 'runtime_minutes','domestic_gross','foreign_gross' ]\n",
    "\n",
    "for column in selected_columns:\n",
    "    sns.boxplot(data = df_cleaning3[column], \n",
    "                linewidth=.75,\n",
    "                notch=True,\n",
    "                showcaps=False,\n",
    "                flierprops={\"marker\": \"*\"},\n",
    "                boxprops={\"facecolor\": (.3, .5, .7, .5)},\n",
    "                medianprops={\"color\": \"r\", \"linewidth\": 2})\n",
    "    plt.title(f\"Boxplot visual for {column}\")\n",
    "    plt.show()\n",
    "\n",
    "            \n"
   ]
  },
  {
   "cell_type": "markdown",
   "id": "f8373d24-c348-485d-b4a8-3629600afeb7",
   "metadata": {},
   "source": [
    "Now i will use the cleaned dataset to proceed with the analysis"
   ]
  },
  {
   "cell_type": "code",
   "execution_count": 43,
   "id": "7b643c01-85dd-414b-8ca0-e643ba31ff1f",
   "metadata": {},
   "outputs": [],
   "source": [
    "df = df_cleaning3.copy(deep = True)"
   ]
  },
  {
   "cell_type": "code",
   "execution_count": 44,
   "id": "aa2c9110-dced-4b92-9332-39757088c86e",
   "metadata": {},
   "outputs": [],
   "source": [
    "cols_to_check = ['averagerating', 'numvotes', 'runtime_minutes','domestic_gross','foreign_gross']"
   ]
  },
  {
   "cell_type": "code",
   "execution_count": 45,
   "id": "b4ab67dd-f13e-4a48-8122-f7b1783c9aac",
   "metadata": {},
   "outputs": [
    {
     "name": "stdout",
     "output_type": "stream",
     "text": [
      "Mean\n",
      "averagerating      6.475325e+00\n",
      "numvotes           7.803025e+04\n",
      "runtime_minutes    1.077453e+02\n",
      "domestic_gross     4.049170e+07\n",
      "foreign_gross      5.506381e+07\n",
      "dtype: float64\n",
      "\n",
      "\n",
      "Median\n",
      "averagerating             6.5\n",
      "numvotes              39870.0\n",
      "runtime_minutes         106.0\n",
      "domestic_gross     21100000.0\n",
      "foreign_gross      21500000.0\n",
      "dtype: float64\n",
      "\n",
      "\n",
      "Mode\n",
      "   averagerating   numvotes  runtime_minutes  domestic_gross  foreign_gross\n",
      "0            6.6  283243.75            105.0     151050000.0    197525000.0\n",
      "\n",
      "\n",
      "Standard Deviation\n",
      "averagerating      9.404356e-01\n",
      "numvotes           9.091536e+04\n",
      "runtime_minutes    1.856419e+01\n",
      "domestic_gross     4.832636e+07\n",
      "foreign_gross      6.755300e+07\n",
      "dtype: float64\n"
     ]
    }
   ],
   "source": [
    "print(\"Mean\")\n",
    "print(df[cols_to_check].mean())\n",
    "print(\"\\n\")\n",
    "print(\"Median\")\n",
    "print(df[cols_to_check].median())\n",
    "print(\"\\n\")\n",
    "print(\"Mode\")\n",
    "print(df[cols_to_check].mode())\n",
    "print(\"\\n\")\n",
    "print(\"Standard Deviation\")\n",
    "print(df[cols_to_check].std())"
   ]
  },
  {
   "cell_type": "code",
   "execution_count": 46,
   "id": "a2c76aaf-63a9-4257-9353-985bc822091d",
   "metadata": {},
   "outputs": [],
   "source": [
    "# df.hist()\n",
    "# plt.figure()"
   ]
  },
  {
   "cell_type": "code",
   "execution_count": 47,
   "id": "29481ff0-2876-4e6c-a4a9-b284c63f5897",
   "metadata": {},
   "outputs": [
    {
     "name": "stderr",
     "output_type": "stream",
     "text": [
      "C:\\Users\\Steve Abonyo\\anaconda3\\Lib\\site-packages\\seaborn\\_oldcore.py:1119: FutureWarning: use_inf_as_na option is deprecated and will be removed in a future version. Convert inf values to NaN before operating instead.\n",
      "  with pd.option_context('mode.use_inf_as_na', True):\n"
     ]
    },
    {
     "data": {
      "image/png": "[encoded data removed]",
      "text/plain": [
       "<Figure size 640x480 with 1 Axes>"
      ]
     },
     "metadata": {},
     "output_type": "display_data"
    }
   ],
   "source": [
    "## Showing a histogram of runtime_minutes of the variables\n",
    "sns.histplot(df[\"runtime_minutes\"], bins=30, kde=True, color='blue', edgecolor='yellow')\n",
    " \n",
    "# Adding labels and title\n",
    "plt.xlabel('Values')\n",
    "plt.ylabel('Frequency')\n",
    "plt.title('Runtime Minutes Histogram with Density Plot')\n",
    " \n",
    "# Display the plot\n",
    "plt.show()"
   ]
  },
  {
   "cell_type": "markdown",
   "id": "7acc6083-97cb-4099-b18a-d25ccf87d526",
   "metadata": {},
   "source": [
    "**From the Runtime Minutes Histogram;** *i can see the data has 2 peaks-it seems bi-modal*, still the variable has some outliers\n",
    "\n",
    "<span style='color:Blue'>***Most movies are between 90-120 mins***</span>\n",
    "\n",
    "More minutes are skewed to the left meaning more minutes for movies"
   ]
  },
  {
   "cell_type": "code",
   "execution_count": 48,
   "id": "b5cfacb9-9c36-4164-8e52-95530d019d66",
   "metadata": {},
   "outputs": [
    {
     "name": "stderr",
     "output_type": "stream",
     "text": [
      "C:\\Users\\Steve Abonyo\\anaconda3\\Lib\\site-packages\\seaborn\\_oldcore.py:1119: FutureWarning: use_inf_as_na option is deprecated and will be removed in a future version. Convert inf values to NaN before operating instead.\n",
      "  with pd.option_context('mode.use_inf_as_na', True):\n"
     ]
    },
    {
     "data": {
      "image/png": "[encoded data removed]",
      "text/plain": [
       "<Figure size 640x480 with 1 Axes>"
      ]
     },
     "metadata": {},
     "output_type": "display_data"
    }
   ],
   "source": [
    "## Showing a histogram of averagerating variables\n",
    "sns.histplot(df[\"averagerating\"], bins=30, kde=True, color='blue', edgecolor='yellow')\n",
    " \n",
    "# Adding labels and title\n",
    "plt.xlabel('Values')\n",
    "plt.ylabel('Frequency')\n",
    "plt.title('Average Rating Histogram with Density Plot')\n",
    " \n",
    "# Display the plot\n",
    "plt.show()"
   ]
  },
  {
   "cell_type": "markdown",
   "id": "018fec83-ff38-42a3-ab9d-2852dfb84af5",
   "metadata": {},
   "source": [
    "**From the Average Rating Histogram;** *We can see that i has quite a number of modes*\n",
    "\n",
    "<span style='color:Blue'>***The rating is quite spread out so we really not derive a recommendation from this, but they should strive range somewhere between 5.8 and 7.5 to be on the safe side***</span>"
   ]
  },
  {
   "cell_type": "code",
   "execution_count": 49,
   "id": "c7c21d33-a316-482c-8e50-3d5e54f55baa",
   "metadata": {},
   "outputs": [],
   "source": [
    "## Let me now check the the studion that gives the best domestic gross income and foreign domestice gross income respectively"
   ]
  },
  {
   "cell_type": "code",
   "execution_count": 50,
   "id": "112f2c1e-f928-464e-90be-52523bb82ef3",
   "metadata": {},
   "outputs": [
    {
     "data": {
      "text/plain": [
       "studio\n",
       "Uni.    1.113198e+10\n",
       "Fox     9.934550e+09\n",
       "BV      9.128300e+09\n",
       "WB      8.045350e+09\n",
       "Par.    6.369563e+09\n",
       "Name: domestic_gross, dtype: float64"
      ]
     },
     "execution_count": 50,
     "metadata": {},
     "output_type": "execute_result"
    }
   ],
   "source": [
    "best_studio_domesticgross = df.groupby([\"studio\"])[\"domestic_gross\"].sum()\n",
    "best_studio_domesticgross.sort_values(ascending=False).head(5)"
   ]
  },
  {
   "cell_type": "code",
   "execution_count": 51,
   "id": "c68a85dd-0f0c-40ae-8be5-6076c77f3b74",
   "metadata": {},
   "outputs": [
    {
     "data": {
      "text/plain": [
       "studio\n",
       "Fox     1.354974e+10\n",
       "Uni.    1.273565e+10\n",
       "BV      1.148245e+10\n",
       "WB      9.975653e+09\n",
       "Sony    8.018975e+09\n",
       "Name: foreign_gross, dtype: float64"
      ]
     },
     "execution_count": 51,
     "metadata": {},
     "output_type": "execute_result"
    }
   ],
   "source": [
    "best_studio_foreigngross = df.groupby([\"studio\"])[\"foreign_gross\"].sum()\n",
    "best_studio_foreigngross.sort_values(ascending=False).head(5)"
   ]
  },
  {
   "cell_type": "markdown",
   "id": "71b8311d-417a-433e-88ba-07043f7b16cd",
   "metadata": {},
   "source": [
    "<span style='color:Blue'>***Generally, 3 studios appears both in the best domestic gross outcome and foreign gross outcome, i.e., Fox, Uni and BV, so first microsoft should choose any of the three for their movie production***</span>"
   ]
  },
  {
   "cell_type": "code",
   "execution_count": 52,
   "id": "80b2d702-b048-4595-a59c-897e70890cc9",
   "metadata": {},
   "outputs": [
    {
     "data": {
      "text/plain": [
       "year\n",
       "2011    8.708874e+09\n",
       "2015    8.593540e+09\n",
       "2013    8.331493e+09\n",
       "2010    7.937691e+09\n",
       "2017    7.800340e+09\n",
       "2016    7.767058e+09\n",
       "2014    7.749602e+09\n",
       "2012    7.425032e+09\n",
       "2018    7.235195e+09\n",
       "Name: domestic_gross, dtype: float64"
      ]
     },
     "execution_count": 52,
     "metadata": {},
     "output_type": "execute_result"
    }
   ],
   "source": [
    "best_year_domesticgross = df.groupby([\"year\"])[\"domestic_gross\"].sum()\n",
    "best_year_domesticgross.sort_values(ascending=False)"
   ]
  },
  {
   "cell_type": "code",
   "execution_count": 53,
   "id": "18b76248-9f27-4c80-a6fc-90f387166730",
   "metadata": {},
   "outputs": [
    {
     "data": {
      "text/plain": [
       "year\n",
       "2017    1.224025e+10\n",
       "2016    1.185022e+10\n",
       "2013    1.155949e+10\n",
       "2011    1.122687e+10\n",
       "2015    1.105509e+10\n",
       "2014    1.058448e+10\n",
       "2018    9.709274e+09\n",
       "2012    9.559271e+09\n",
       "2010    9.512817e+09\n",
       "Name: foreign_gross, dtype: float64"
      ]
     },
     "execution_count": 53,
     "metadata": {},
     "output_type": "execute_result"
    }
   ],
   "source": [
    "best_year_foreigngross = df.groupby([\"year\"])[\"foreign_gross\"].sum().sort_values(ascending=False)\n",
    "best_year_foreigngross"
   ]
  },
  {
   "cell_type": "markdown",
   "id": "a2367c63-1179-450f-b791-4561ce4ad4de",
   "metadata": {},
   "source": [
    "<span style='color:Blue'>***Between 2010-2019: in the `2011`, `2015`, `2013` and `2010` are appearing as the top most for overall domestic gross income generated, i.e., these countries mentioned are in the first half of this period, the latter half is mostly in the bottom 5, implying in the first half the return from the domestic market was good***</span>\n",
    "\n",
    "<span style='color:Blue'>***For foreign gross income, we see that the latter part of the 10 year study appears in the top 5 i.e., `2017`, `2016`, and `2015`***</span>\n",
    "\n",
    "<span style='color:Brown'>***This means that the focus is now more to the foreign consumers, so Microsoft should focus more on also inclusivity of the international views so as to gain more income***</span>"
   ]
  },
  {
   "cell_type": "code",
   "execution_count": 54,
   "id": "d6a9a94b-8edf-481f-a29a-8b4e0e8260b5",
   "metadata": {},
   "outputs": [
    {
     "name": "stdout",
     "output_type": "stream",
     "text": [
      "['Drama', 'Comedy,Drama', 'Adventure,Animation,Comedy', 'Comedy,Drama,Romance', 'Drama,Romance']\n",
      "[115, 73, 72, 66, 61]\n"
     ]
    }
   ],
   "source": [
    "Top_5_genres = df[\"genres\"].value_counts().index[0:5].tolist()\n",
    "Top_5_genres_counts = df[\"genres\"].value_counts().values[0:5].tolist()\n",
    "print(Top_5_genres)\n",
    "print(Top_5_genres_counts)"
   ]
  },
  {
   "cell_type": "code",
   "execution_count": 55,
   "id": "67238567-597b-40bf-96ec-1f342d8911ee",
   "metadata": {},
   "outputs": [
    {
     "name": "stderr",
     "output_type": "stream",
     "text": [
      "C:\\Users\\Steve Abonyo\\AppData\\Local\\Temp\\ipykernel_8552\\1635921.py:10: UserWarning: set_ticklabels() should only be used with a fixed number of ticks, i.e. after set_ticks() or using a FixedLocator.\n",
      "  ax.set_xticklabels(Top_5_genres, rotation = 90, zorder=100)\n"
     ]
    },
    {
     "data": {
      "image/png": "[encoded data removed]",
      "text/plain": [
       "<Figure size 600x500 with 1 Axes>"
      ]
     },
     "metadata": {},
     "output_type": "display_data"
    }
   ],
   "source": [
    "bar_chart_title = \"Top 5 most watched movie genres\"\n",
    "\n",
    "fig, ax = plt.subplots(figsize = (6, 5))\n",
    "\n",
    "ax.bar(Top_5_genres,Top_5_genres_counts,color = 'orange') ## note that if you try barh puts the graph to be horizontal\n",
    "width = 0.25\n",
    "ax.set_ylabel(\"count\")\n",
    "ax.set_title(bar_chart_title,\n",
    "            loc = 'left')\n",
    "ax.set_xticklabels(Top_5_genres, rotation = 90, zorder=100)\n",
    "\n",
    "plt.show()"
   ]
  },
  {
   "cell_type": "markdown",
   "id": "b6751dea-343a-4586-b0f0-8d52ee2cf31a",
   "metadata": {},
   "source": [
    "<span style='color:Blue'>***Drama type of movies is the route to go for microsoft***</span>"
   ]
  },
  {
   "cell_type": "code",
   "execution_count": 56,
   "id": "a0b8290b-61a5-44fa-97a3-063345789f89",
   "metadata": {},
   "outputs": [
    {
     "data": {
      "image/png": "[encoded data removed]",
      "text/plain": [
       "<Figure size 1000x800 with 1 Axes>"
      ]
     },
     "metadata": {},
     "output_type": "display_data"
    }
   ],
   "source": [
    "columns_of_interest = ['averagerating','domestic_gross']\n",
    "df_sct = df[columns_of_interest]\n",
    "\n",
    "plt.figure(figsize=(10, 8))\n",
    "sns.scatterplot(x='averagerating', y='domestic_gross', data=df_sct)\n",
    "plt.title('Scatter Plot: Movie Rating and Domestic Gross')\n",
    "plt.xlabel('averagerating')\n",
    "plt.ylabel('domestic_gross')\n",
    "plt.show()"
   ]
  },
  {
   "cell_type": "code",
   "execution_count": 57,
   "id": "b97ea6ca-029c-4e61-8b7e-c4b212e9aacf",
   "metadata": {},
   "outputs": [
    {
     "data": {
      "image/png": "[encoded data removed]",
      "text/plain": [
       "<Figure size 1000x800 with 1 Axes>"
      ]
     },
     "metadata": {},
     "output_type": "display_data"
    }
   ],
   "source": [
    "columns_of_interest = ['averagerating','foreign_gross']\n",
    "df_sct = df[columns_of_interest]\n",
    "\n",
    "plt.figure(figsize=(10, 8))\n",
    "sns.scatterplot(x='averagerating', y='foreign_gross', data=df_sct)\n",
    "plt.title('Scatter Plot: Movie Rating and Foreign Gross')\n",
    "plt.xlabel('averagerating')\n",
    "plt.ylabel('domestic_gross')\n",
    "plt.show()"
   ]
  },
  {
   "cell_type": "markdown",
   "id": "adc49e23-e865-4279-8dd6-da01d7954d4e",
   "metadata": {},
   "source": [
    "<span style='color:Blue'>***From both visuals, showing movie average rating and domestic and gross income respectively, we see that the gross income when the rating is between 5.8 and 7.5***</span>\n",
    "\n",
    "<span style='color:Brown'>***Microsft should really try so that the movies they will produce fall within the ratio of 5.8:7:5 so that they reap the most***</span>"
   ]
  },
  {
   "cell_type": "markdown",
   "id": "d40ca3fe-7553-43db-ae1a-f46150feed78",
   "metadata": {},
   "source": [
    "##### ***Exploring the relationship between Number of votes and Average rating***"
   ]
  },
  {
   "cell_type": "code",
   "execution_count": 58,
   "id": "8cd55e5a-5090-4c2e-8bf4-d28692dedbe3",
   "metadata": {},
   "outputs": [
    {
     "data": {
      "image/png": "[encoded data removed]",
      "text/plain": [
       "<Figure size 1000x800 with 2 Axes>"
      ]
     },
     "metadata": {},
     "output_type": "display_data"
    },
    {
     "name": "stdout",
     "output_type": "stream",
     "text": [
      "None\n"
     ]
    }
   ],
   "source": [
    "# Selecting relevant columns\n",
    "selected_columns = ['averagerating', 'numvotes', 'runtime_minutes','domestic_gross','foreign_gross']\n",
    "correlation_df = df[selected_columns]\n",
    "\n",
    "# Correlation matrix\n",
    "correlation_matrix = correlation_df.corr()\n",
    "# Visualizing using a heatmap\n",
    "plt.figure(figsize=(10, 8))\n",
    "sns.heatmap(correlation_matrix, annot=True, cmap='coolwarm', fmt=\".2f\", linewidths=0.5)\n",
    "plt.title('Correlation Matrix: Number of votes, and Average rating')\n",
    "print(plt.show())"
   ]
  },
  {
   "cell_type": "code",
   "execution_count": 59,
   "id": "7e62f79d-e158-40b9-8c0f-3fb1d40184db",
   "metadata": {},
   "outputs": [
    {
     "data": {
      "text/html": [
       "<div>\n",
       "<style scoped>\n",
       "    .dataframe tbody tr th:only-of-type {\n",
       "        vertical-align: middle;\n",
       "    }\n",
       "\n",
       "    .dataframe tbody tr th {\n",
       "        vertical-align: top;\n",
       "    }\n",
       "\n",
       "    .dataframe thead th {\n",
       "        text-align: right;\n",
       "    }\n",
       "</style>\n",
       "<table border=\"1\" class=\"dataframe\">\n",
       "  <thead>\n",
       "    <tr style=\"text-align: right;\">\n",
       "      <th></th>\n",
       "      <th>averagerating</th>\n",
       "      <th>numvotes</th>\n",
       "      <th>runtime_minutes</th>\n",
       "      <th>domestic_gross</th>\n",
       "      <th>foreign_gross</th>\n",
       "    </tr>\n",
       "  </thead>\n",
       "  <tbody>\n",
       "    <tr>\n",
       "      <th>averagerating</th>\n",
       "      <td>1.000000</td>\n",
       "      <td>0.376249</td>\n",
       "      <td>0.267372</td>\n",
       "      <td>0.148042</td>\n",
       "      <td>0.134273</td>\n",
       "    </tr>\n",
       "    <tr>\n",
       "      <th>numvotes</th>\n",
       "      <td>0.376249</td>\n",
       "      <td>1.000000</td>\n",
       "      <td>0.340455</td>\n",
       "      <td>0.663636</td>\n",
       "      <td>0.582207</td>\n",
       "    </tr>\n",
       "    <tr>\n",
       "      <th>runtime_minutes</th>\n",
       "      <td>0.267372</td>\n",
       "      <td>0.340455</td>\n",
       "      <td>1.000000</td>\n",
       "      <td>0.141650</td>\n",
       "      <td>0.186008</td>\n",
       "    </tr>\n",
       "    <tr>\n",
       "      <th>domestic_gross</th>\n",
       "      <td>0.148042</td>\n",
       "      <td>0.663636</td>\n",
       "      <td>0.141650</td>\n",
       "      <td>1.000000</td>\n",
       "      <td>0.777419</td>\n",
       "    </tr>\n",
       "    <tr>\n",
       "      <th>foreign_gross</th>\n",
       "      <td>0.134273</td>\n",
       "      <td>0.582207</td>\n",
       "      <td>0.186008</td>\n",
       "      <td>0.777419</td>\n",
       "      <td>1.000000</td>\n",
       "    </tr>\n",
       "  </tbody>\n",
       "</table>\n",
       "</div>"
      ],
      "text/plain": [
       "                 averagerating  numvotes  runtime_minutes  domestic_gross  \\\n",
       "averagerating         1.000000  0.376249         0.267372        0.148042   \n",
       "numvotes              0.376249  1.000000         0.340455        0.663636   \n",
       "runtime_minutes       0.267372  0.340455         1.000000        0.141650   \n",
       "domestic_gross        0.148042  0.663636         0.141650        1.000000   \n",
       "foreign_gross         0.134273  0.582207         0.186008        0.777419   \n",
       "\n",
       "                 foreign_gross  \n",
       "averagerating         0.134273  \n",
       "numvotes              0.582207  \n",
       "runtime_minutes       0.186008  \n",
       "domestic_gross        0.777419  \n",
       "foreign_gross         1.000000  "
      ]
     },
     "execution_count": 59,
     "metadata": {},
     "output_type": "execute_result"
    }
   ],
   "source": [
    "correlation_matrix = correlation_df.corr()\n",
    "correlation_matrix"
   ]
  },
  {
   "cell_type": "markdown",
   "id": "2d6e22da-b502-4afe-a5e4-4c6c23e5f497",
   "metadata": {},
   "source": [
    "<span style='color:Brown'> ***Three variables seem to be strongly positively correlated, i.e., number of votes, foreigh gross and domestic gross***</span>"
   ]
  },
  {
   "cell_type": "code",
   "execution_count": 60,
   "id": "6b846f3e-d85a-4bfc-b987-edf88b5afe45",
   "metadata": {},
   "outputs": [
    {
     "data": {
      "text/html": [
       "<div>\n",
       "<style scoped>\n",
       "    .dataframe tbody tr th:only-of-type {\n",
       "        vertical-align: middle;\n",
       "    }\n",
       "\n",
       "    .dataframe tbody tr th {\n",
       "        vertical-align: top;\n",
       "    }\n",
       "\n",
       "    .dataframe thead th {\n",
       "        text-align: right;\n",
       "    }\n",
       "</style>\n",
       "<table border=\"1\" class=\"dataframe\">\n",
       "  <thead>\n",
       "    <tr style=\"text-align: right;\">\n",
       "      <th></th>\n",
       "      <th>tconst</th>\n",
       "      <th>primary_title</th>\n",
       "      <th>start_year</th>\n",
       "      <th>runtime_minutes</th>\n",
       "      <th>genres</th>\n",
       "      <th>averagerating</th>\n",
       "      <th>numvotes</th>\n",
       "      <th>studio</th>\n",
       "      <th>domestic_gross</th>\n",
       "      <th>foreign_gross</th>\n",
       "      <th>year</th>\n",
       "    </tr>\n",
       "  </thead>\n",
       "  <tbody>\n",
       "    <tr>\n",
       "      <th>0</th>\n",
       "      <td>tt0435761</td>\n",
       "      <td>Toy Story 3</td>\n",
       "      <td>2010</td>\n",
       "      <td>103.0</td>\n",
       "      <td>Adventure,Animation,Comedy</td>\n",
       "      <td>8.3</td>\n",
       "      <td>283243.75</td>\n",
       "      <td>BV</td>\n",
       "      <td>151050000.0</td>\n",
       "      <td>197525000.0</td>\n",
       "      <td>2010</td>\n",
       "    </tr>\n",
       "    <tr>\n",
       "      <th>3</th>\n",
       "      <td>tt1375666</td>\n",
       "      <td>Inception</td>\n",
       "      <td>2010</td>\n",
       "      <td>148.0</td>\n",
       "      <td>Action,Adventure,Sci-Fi</td>\n",
       "      <td>8.8</td>\n",
       "      <td>283243.75</td>\n",
       "      <td>WB</td>\n",
       "      <td>151050000.0</td>\n",
       "      <td>197525000.0</td>\n",
       "      <td>2010</td>\n",
       "    </tr>\n",
       "  </tbody>\n",
       "</table>\n",
       "</div>"
      ],
      "text/plain": [
       "      tconst primary_title  start_year  runtime_minutes  \\\n",
       "0  tt0435761   Toy Story 3        2010            103.0   \n",
       "3  tt1375666     Inception        2010            148.0   \n",
       "\n",
       "                       genres  averagerating   numvotes studio  \\\n",
       "0  Adventure,Animation,Comedy            8.3  283243.75     BV   \n",
       "3     Action,Adventure,Sci-Fi            8.8  283243.75     WB   \n",
       "\n",
       "   domestic_gross  foreign_gross  year  \n",
       "0     151050000.0    197525000.0  2010  \n",
       "3     151050000.0    197525000.0  2010  "
      ]
     },
     "execution_count": 60,
     "metadata": {},
     "output_type": "execute_result"
    }
   ],
   "source": [
    "df.head(2)"
   ]
  },
  {
   "cell_type": "markdown",
   "id": "d4c5b921-d6a1-4914-9cb0-c3ef6feeea95",
   "metadata": {},
   "source": [
    "***I know want to classify the average rating into groups***"
   ]
  },
  {
   "cell_type": "code",
   "execution_count": 61,
   "id": "8e2f2b12-85e8-4557-94d2-dc27e0254068",
   "metadata": {},
   "outputs": [],
   "source": [
    "## option 1 using the lambda function\n",
    "# df['Rating_Grouped'] = df['averagerating'].apply(lambda x: 'Above 5' if x > 5 else 'Less than or equal to 5')\n",
    "\n",
    "## option 2 using list comprehension\n",
    "df['Rating_Grouped'] = ['Above 5 rate' if x > 5 else 'Less than or equal to 5 rate' for x in df['averagerating']] "
   ]
  },
  {
   "cell_type": "code",
   "execution_count": 62,
   "id": "211ffde2-9f74-4599-ba32-c8b6fd624302",
   "metadata": {},
   "outputs": [
    {
     "data": {
      "text/html": [
       "<div>\n",
       "<style scoped>\n",
       "    .dataframe tbody tr th:only-of-type {\n",
       "        vertical-align: middle;\n",
       "    }\n",
       "\n",
       "    .dataframe tbody tr th {\n",
       "        vertical-align: top;\n",
       "    }\n",
       "\n",
       "    .dataframe thead th {\n",
       "        text-align: right;\n",
       "    }\n",
       "</style>\n",
       "<table border=\"1\" class=\"dataframe\">\n",
       "  <thead>\n",
       "    <tr style=\"text-align: right;\">\n",
       "      <th></th>\n",
       "      <th>tconst</th>\n",
       "      <th>primary_title</th>\n",
       "      <th>start_year</th>\n",
       "      <th>runtime_minutes</th>\n",
       "      <th>genres</th>\n",
       "      <th>averagerating</th>\n",
       "      <th>numvotes</th>\n",
       "      <th>studio</th>\n",
       "      <th>domestic_gross</th>\n",
       "      <th>foreign_gross</th>\n",
       "      <th>year</th>\n",
       "      <th>Rating_Grouped</th>\n",
       "    </tr>\n",
       "  </thead>\n",
       "  <tbody>\n",
       "    <tr>\n",
       "      <th>2115</th>\n",
       "      <td>tt2296777</td>\n",
       "      <td>Sherlock Gnomes</td>\n",
       "      <td>2018</td>\n",
       "      <td>86.0</td>\n",
       "      <td>Adventure,Animation,Comedy</td>\n",
       "      <td>5.1</td>\n",
       "      <td>8030.0</td>\n",
       "      <td>Par.</td>\n",
       "      <td>43200000.0</td>\n",
       "      <td>47100000.0</td>\n",
       "      <td>2018</td>\n",
       "      <td>Above 5 rate</td>\n",
       "    </tr>\n",
       "    <tr>\n",
       "      <th>1119</th>\n",
       "      <td>tt2070776</td>\n",
       "      <td>Populaire</td>\n",
       "      <td>2012</td>\n",
       "      <td>111.0</td>\n",
       "      <td>Comedy,Romance,Sport</td>\n",
       "      <td>6.9</td>\n",
       "      <td>10746.0</td>\n",
       "      <td>Wein.</td>\n",
       "      <td>179000.0</td>\n",
       "      <td>5300000.0</td>\n",
       "      <td>2013</td>\n",
       "      <td>Above 5 rate</td>\n",
       "    </tr>\n",
       "    <tr>\n",
       "      <th>1085</th>\n",
       "      <td>tt1381404</td>\n",
       "      <td>The Company You Keep</td>\n",
       "      <td>2012</td>\n",
       "      <td>125.0</td>\n",
       "      <td>Drama,Thriller</td>\n",
       "      <td>6.4</td>\n",
       "      <td>29665.0</td>\n",
       "      <td>SPC</td>\n",
       "      <td>5100000.0</td>\n",
       "      <td>14500000.0</td>\n",
       "      <td>2013</td>\n",
       "      <td>Above 5 rate</td>\n",
       "    </tr>\n",
       "    <tr>\n",
       "      <th>1008</th>\n",
       "      <td>tt1702439</td>\n",
       "      <td>Safe Haven</td>\n",
       "      <td>2013</td>\n",
       "      <td>115.0</td>\n",
       "      <td>Drama,Romance,Thriller</td>\n",
       "      <td>6.7</td>\n",
       "      <td>97055.0</td>\n",
       "      <td>Rela.</td>\n",
       "      <td>71300000.0</td>\n",
       "      <td>26200000.0</td>\n",
       "      <td>2013</td>\n",
       "      <td>Above 5 rate</td>\n",
       "    </tr>\n",
       "  </tbody>\n",
       "</table>\n",
       "</div>"
      ],
      "text/plain": [
       "         tconst         primary_title  start_year  runtime_minutes  \\\n",
       "2115  tt2296777       Sherlock Gnomes        2018             86.0   \n",
       "1119  tt2070776             Populaire        2012            111.0   \n",
       "1085  tt1381404  The Company You Keep        2012            125.0   \n",
       "1008  tt1702439            Safe Haven        2013            115.0   \n",
       "\n",
       "                          genres  averagerating  numvotes studio  \\\n",
       "2115  Adventure,Animation,Comedy            5.1    8030.0   Par.   \n",
       "1119        Comedy,Romance,Sport            6.9   10746.0  Wein.   \n",
       "1085              Drama,Thriller            6.4   29665.0    SPC   \n",
       "1008      Drama,Romance,Thriller            6.7   97055.0  Rela.   \n",
       "\n",
       "      domestic_gross  foreign_gross  year Rating_Grouped  \n",
       "2115      43200000.0     47100000.0  2018   Above 5 rate  \n",
       "1119        179000.0      5300000.0  2013   Above 5 rate  \n",
       "1085       5100000.0     14500000.0  2013   Above 5 rate  \n",
       "1008      71300000.0     26200000.0  2013   Above 5 rate  "
      ]
     },
     "execution_count": 62,
     "metadata": {},
     "output_type": "execute_result"
    }
   ],
   "source": [
    "df.sample(4)"
   ]
  },
  {
   "cell_type": "markdown",
   "id": "886009c7-e65d-43fe-9046-75c5821e72e7",
   "metadata": {},
   "source": [
    "***I know want to classify the run time minutes into groups***"
   ]
  },
  {
   "cell_type": "code",
   "execution_count": 63,
   "id": "7fdc4383-f8d5-406f-ac3c-1788ab871e1d",
   "metadata": {},
   "outputs": [
    {
     "data": {
      "text/plain": [
       "dtype('int32')"
      ]
     },
     "execution_count": 63,
     "metadata": {},
     "output_type": "execute_result"
    }
   ],
   "source": [
    "df[\"runtime_minutes\"] = df[\"runtime_minutes\"].astype(int)\n",
    "df[\"runtime_minutes\"].dtype"
   ]
  },
  {
   "cell_type": "code",
   "execution_count": 64,
   "id": "504f2938-e90b-4bb9-b206-828e67db04c0",
   "metadata": {},
   "outputs": [],
   "source": [
    "\n",
    "## creating a column now using a for loop\n",
    "#df_f = df.copy(deep=True))\n",
    "\n",
    "# runtime_result = []\n",
    "# for time_min in df_f[\"runtime_minutes\"]:\n",
    "#     if time_min > 0 & time_min <= 100:\n",
    "#         runtime_result.append(\"Between 1 and 100mins\")\n",
    "#     elif time_min > 100 & time_min <= 120:\n",
    "#         runtime_result.append(\"Between 101 and 120mins\")\n",
    "#     else:\n",
    "#         runtime_result.append(\"Above 120mins\")   \n",
    "# df_f[\"Runtime_minutes_grouped\"] = runtime_result \n",
    "# df = df_f.copy(deep=True)\n",
    "\n",
    "##THIS IS GIVING ME WRONG RESULTS\n",
    "\n",
    "\n",
    "\n",
    "\n",
    "## I am now using list comprehension instead\n",
    "df['Runtime_minutes_grouped'] = ['Time above 100mins' if x > 100 else 'Time below/equal to 100mins' for x in df['runtime_minutes']] "
   ]
  },
  {
   "cell_type": "code",
   "execution_count": 65,
   "id": "8c4f5e59-623a-4a74-b251-aa7faf54a79a",
   "metadata": {},
   "outputs": [
    {
     "data": {
      "text/html": [
       "<div>\n",
       "<style scoped>\n",
       "    .dataframe tbody tr th:only-of-type {\n",
       "        vertical-align: middle;\n",
       "    }\n",
       "\n",
       "    .dataframe tbody tr th {\n",
       "        vertical-align: top;\n",
       "    }\n",
       "\n",
       "    .dataframe thead th {\n",
       "        text-align: right;\n",
       "    }\n",
       "</style>\n",
       "<table border=\"1\" class=\"dataframe\">\n",
       "  <thead>\n",
       "    <tr style=\"text-align: right;\">\n",
       "      <th></th>\n",
       "      <th>tconst</th>\n",
       "      <th>primary_title</th>\n",
       "      <th>start_year</th>\n",
       "      <th>runtime_minutes</th>\n",
       "      <th>genres</th>\n",
       "      <th>averagerating</th>\n",
       "      <th>numvotes</th>\n",
       "      <th>studio</th>\n",
       "      <th>domestic_gross</th>\n",
       "      <th>foreign_gross</th>\n",
       "      <th>year</th>\n",
       "      <th>Rating_Grouped</th>\n",
       "      <th>Runtime_minutes_grouped</th>\n",
       "    </tr>\n",
       "  </thead>\n",
       "  <tbody>\n",
       "    <tr>\n",
       "      <th>510</th>\n",
       "      <td>tt1023114</td>\n",
       "      <td>The Way Back</td>\n",
       "      <td>2010</td>\n",
       "      <td>133</td>\n",
       "      <td>Adventure,Drama,History</td>\n",
       "      <td>7.3</td>\n",
       "      <td>102126.0</td>\n",
       "      <td>NM</td>\n",
       "      <td>2700000.0</td>\n",
       "      <td>17600000.0</td>\n",
       "      <td>2011</td>\n",
       "      <td>Above 5 rate</td>\n",
       "      <td>Time above 100mins</td>\n",
       "    </tr>\n",
       "    <tr>\n",
       "      <th>1924</th>\n",
       "      <td>tt4925292</td>\n",
       "      <td>Lady Bird</td>\n",
       "      <td>2017</td>\n",
       "      <td>94</td>\n",
       "      <td>Comedy,Drama</td>\n",
       "      <td>7.4</td>\n",
       "      <td>177677.0</td>\n",
       "      <td>A24</td>\n",
       "      <td>49000000.0</td>\n",
       "      <td>30000000.0</td>\n",
       "      <td>2017</td>\n",
       "      <td>Above 5 rate</td>\n",
       "      <td>Time below/equal to 100mins</td>\n",
       "    </tr>\n",
       "    <tr>\n",
       "      <th>1812</th>\n",
       "      <td>tt5282006</td>\n",
       "      <td>The Duelist</td>\n",
       "      <td>2016</td>\n",
       "      <td>109</td>\n",
       "      <td>Action,Drama,Thriller</td>\n",
       "      <td>6.4</td>\n",
       "      <td>2487.0</td>\n",
       "      <td>Sony</td>\n",
       "      <td>13500.0</td>\n",
       "      <td>6100000.0</td>\n",
       "      <td>2016</td>\n",
       "      <td>Above 5 rate</td>\n",
       "      <td>Time above 100mins</td>\n",
       "    </tr>\n",
       "    <tr>\n",
       "      <th>1053</th>\n",
       "      <td>tt1931435</td>\n",
       "      <td>The Big Wedding</td>\n",
       "      <td>2013</td>\n",
       "      <td>89</td>\n",
       "      <td>Comedy,Drama,Romance</td>\n",
       "      <td>5.6</td>\n",
       "      <td>44221.0</td>\n",
       "      <td>LGF</td>\n",
       "      <td>21800000.0</td>\n",
       "      <td>24700000.0</td>\n",
       "      <td>2013</td>\n",
       "      <td>Above 5 rate</td>\n",
       "      <td>Time below/equal to 100mins</td>\n",
       "    </tr>\n",
       "    <tr>\n",
       "      <th>1704</th>\n",
       "      <td>tt1860213</td>\n",
       "      <td>Dirty Grandpa</td>\n",
       "      <td>2016</td>\n",
       "      <td>102</td>\n",
       "      <td>Comedy</td>\n",
       "      <td>5.9</td>\n",
       "      <td>101393.0</td>\n",
       "      <td>LGF</td>\n",
       "      <td>35600000.0</td>\n",
       "      <td>58500000.0</td>\n",
       "      <td>2016</td>\n",
       "      <td>Above 5 rate</td>\n",
       "      <td>Time above 100mins</td>\n",
       "    </tr>\n",
       "    <tr>\n",
       "      <th>1884</th>\n",
       "      <td>tt2239822</td>\n",
       "      <td>Valerian and the City of a Thousand Planets</td>\n",
       "      <td>2017</td>\n",
       "      <td>137</td>\n",
       "      <td>Action,Adventure,Fantasy</td>\n",
       "      <td>6.5</td>\n",
       "      <td>139792.0</td>\n",
       "      <td>STX</td>\n",
       "      <td>41200000.0</td>\n",
       "      <td>184700000.0</td>\n",
       "      <td>2017</td>\n",
       "      <td>Above 5 rate</td>\n",
       "      <td>Time above 100mins</td>\n",
       "    </tr>\n",
       "    <tr>\n",
       "      <th>787</th>\n",
       "      <td>tt1441952</td>\n",
       "      <td>Salmon Fishing in the Yemen</td>\n",
       "      <td>2011</td>\n",
       "      <td>107</td>\n",
       "      <td>Comedy,Drama,Romance</td>\n",
       "      <td>6.8</td>\n",
       "      <td>58864.0</td>\n",
       "      <td>CBS</td>\n",
       "      <td>9000000.0</td>\n",
       "      <td>25500000.0</td>\n",
       "      <td>2012</td>\n",
       "      <td>Above 5 rate</td>\n",
       "      <td>Time above 100mins</td>\n",
       "    </tr>\n",
       "    <tr>\n",
       "      <th>381</th>\n",
       "      <td>tt1033575</td>\n",
       "      <td>The Descendants</td>\n",
       "      <td>2011</td>\n",
       "      <td>115</td>\n",
       "      <td>Comedy,Drama</td>\n",
       "      <td>7.3</td>\n",
       "      <td>223464.0</td>\n",
       "      <td>FoxS</td>\n",
       "      <td>82600000.0</td>\n",
       "      <td>94700000.0</td>\n",
       "      <td>2011</td>\n",
       "      <td>Above 5 rate</td>\n",
       "      <td>Time above 100mins</td>\n",
       "    </tr>\n",
       "    <tr>\n",
       "      <th>132</th>\n",
       "      <td>tt0492389</td>\n",
       "      <td>Furry Vengeance</td>\n",
       "      <td>2010</td>\n",
       "      <td>92</td>\n",
       "      <td>Comedy,Family</td>\n",
       "      <td>4.1</td>\n",
       "      <td>14700.0</td>\n",
       "      <td>Sum.</td>\n",
       "      <td>17600000.0</td>\n",
       "      <td>18600000.0</td>\n",
       "      <td>2010</td>\n",
       "      <td>Less than or equal to 5 rate</td>\n",
       "      <td>Time below/equal to 100mins</td>\n",
       "    </tr>\n",
       "    <tr>\n",
       "      <th>386</th>\n",
       "      <td>tt1204342</td>\n",
       "      <td>The Muppets</td>\n",
       "      <td>2011</td>\n",
       "      <td>103</td>\n",
       "      <td>Adventure,Comedy,Family</td>\n",
       "      <td>7.1</td>\n",
       "      <td>82752.0</td>\n",
       "      <td>BV</td>\n",
       "      <td>88600000.0</td>\n",
       "      <td>76600000.0</td>\n",
       "      <td>2011</td>\n",
       "      <td>Above 5 rate</td>\n",
       "      <td>Time above 100mins</td>\n",
       "    </tr>\n",
       "  </tbody>\n",
       "</table>\n",
       "</div>"
      ],
      "text/plain": [
       "         tconst                                primary_title  start_year  \\\n",
       "510   tt1023114                                 The Way Back        2010   \n",
       "1924  tt4925292                                    Lady Bird        2017   \n",
       "1812  tt5282006                                  The Duelist        2016   \n",
       "1053  tt1931435                              The Big Wedding        2013   \n",
       "1704  tt1860213                                Dirty Grandpa        2016   \n",
       "1884  tt2239822  Valerian and the City of a Thousand Planets        2017   \n",
       "787   tt1441952                  Salmon Fishing in the Yemen        2011   \n",
       "381   tt1033575                              The Descendants        2011   \n",
       "132   tt0492389                              Furry Vengeance        2010   \n",
       "386   tt1204342                                  The Muppets        2011   \n",
       "\n",
       "      runtime_minutes                    genres  averagerating  numvotes  \\\n",
       "510               133   Adventure,Drama,History            7.3  102126.0   \n",
       "1924               94              Comedy,Drama            7.4  177677.0   \n",
       "1812              109     Action,Drama,Thriller            6.4    2487.0   \n",
       "1053               89      Comedy,Drama,Romance            5.6   44221.0   \n",
       "1704              102                    Comedy            5.9  101393.0   \n",
       "1884              137  Action,Adventure,Fantasy            6.5  139792.0   \n",
       "787               107      Comedy,Drama,Romance            6.8   58864.0   \n",
       "381               115              Comedy,Drama            7.3  223464.0   \n",
       "132                92             Comedy,Family            4.1   14700.0   \n",
       "386               103   Adventure,Comedy,Family            7.1   82752.0   \n",
       "\n",
       "     studio  domestic_gross  foreign_gross  year  \\\n",
       "510      NM       2700000.0     17600000.0  2011   \n",
       "1924    A24      49000000.0     30000000.0  2017   \n",
       "1812   Sony         13500.0      6100000.0  2016   \n",
       "1053    LGF      21800000.0     24700000.0  2013   \n",
       "1704    LGF      35600000.0     58500000.0  2016   \n",
       "1884    STX      41200000.0    184700000.0  2017   \n",
       "787     CBS       9000000.0     25500000.0  2012   \n",
       "381    FoxS      82600000.0     94700000.0  2011   \n",
       "132    Sum.      17600000.0     18600000.0  2010   \n",
       "386      BV      88600000.0     76600000.0  2011   \n",
       "\n",
       "                    Rating_Grouped      Runtime_minutes_grouped  \n",
       "510                   Above 5 rate           Time above 100mins  \n",
       "1924                  Above 5 rate  Time below/equal to 100mins  \n",
       "1812                  Above 5 rate           Time above 100mins  \n",
       "1053                  Above 5 rate  Time below/equal to 100mins  \n",
       "1704                  Above 5 rate           Time above 100mins  \n",
       "1884                  Above 5 rate           Time above 100mins  \n",
       "787                   Above 5 rate           Time above 100mins  \n",
       "381                   Above 5 rate           Time above 100mins  \n",
       "132   Less than or equal to 5 rate  Time below/equal to 100mins  \n",
       "386                   Above 5 rate           Time above 100mins  "
      ]
     },
     "execution_count": 65,
     "metadata": {},
     "output_type": "execute_result"
    }
   ],
   "source": [
    "df.sample(10)"
   ]
  },
  {
   "cell_type": "code",
   "execution_count": 66,
   "id": "8dee2065-b0af-4781-9e2b-c43351dd5fd6",
   "metadata": {},
   "outputs": [],
   "source": [
    "## Now i would like to see a graph between runtime minutes and rating"
   ]
  },
  {
   "cell_type": "code",
   "execution_count": 67,
   "id": "c908f0fe-f87e-489b-babd-e3278b63b718",
   "metadata": {},
   "outputs": [
    {
     "data": {
      "text/plain": [
       "Runtime_minutes_grouped\n",
       "Time above 100mins             1100\n",
       "Time below/equal to 100mins     667\n",
       "Name: count, dtype: int64"
      ]
     },
     "execution_count": 67,
     "metadata": {},
     "output_type": "execute_result"
    }
   ],
   "source": [
    "df['Runtime_minutes_grouped'].value_counts()"
   ]
  },
  {
   "cell_type": "code",
   "execution_count": 68,
   "id": "392c7177-f3e0-44cf-b92d-0cf3c700e6c9",
   "metadata": {},
   "outputs": [
    {
     "data": {
      "image/png": "[encoded data removed]",
      "text/plain": [
       "<Figure size 1200x800 with 1 Axes>"
      ]
     },
     "metadata": {},
     "output_type": "display_data"
    }
   ],
   "source": [
    "plt.figure(figsize=(12, 8))\n",
    "sns.countplot(x='Runtime_minutes_grouped',hue='Rating_Grouped' , data=df)\n",
    "plt.title('Movie run time(mins) vs Average rating')\n",
    "plt.ylabel('Count')\n",
    "plt.xlabel(' ')\n",
    "plt.legend(title='Rating', labels=['Above 5 rate', 'Less than or equal to 5 rate'])\n",
    "plt.show()"
   ]
  },
  {
   "cell_type": "markdown",
   "id": "a4b3f790-c8a2-4c8d-bcb5-f6bce043a885",
   "metadata": {},
   "source": [
    "<span style='color:Blue'> ***From the above graph, we see that it of great advantage to have your movie less than 100mins, as we can see, rating less than 5 is higher for movies whose duration is more than 100 mins*** </span>"
   ]
  }
 ],
 "metadata": {
  "kernelspec": {
   "display_name": "Python 3 (ipykernel)",
   "language": "python",
   "name": "python3"
  },
  "language_info": {
   "codemirror_mode": {
    "name": "ipython",
    "version": 3
   },
   "file_extension": ".py",
   "mimetype": "text/x-python",
   "name": "python",
   "nbconvert_exporter": "python",
   "pygments_lexer": "ipython3",
   "version": "3.11.5"
  }
 },
 "nbformat": 4,
 "nbformat_minor": 5
}
